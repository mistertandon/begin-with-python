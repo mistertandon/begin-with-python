{
 "cells": [
  {
   "cell_type": "code",
   "execution_count": 5,
   "metadata": {},
   "outputs": [
    {
     "name": "stdout",
     "output_type": "stream",
     "text": [
      "0.8807970779778823\n"
     ]
    }
   ],
   "source": [
    "import numpy as np\n",
    "\n",
    "def sigmoid(x):\n",
    "    return 1 / (1 + np.exp(-x))\n",
    "# Modal equation is W1X1 + W2X2\n",
    "weights_a = [1, 1]\n",
    "parameters_a = [1, 1]\n",
    "input_a = np.dot(weights_a, parameters_a)\n",
    "output_a = sigmoid(input_a)\n",
    "\n",
    "print(output_a)"
   ]
  },
  {
   "cell_type": "code",
   "execution_count": 6,
   "metadata": {},
   "outputs": [
    {
     "name": "stdout",
     "output_type": "stream",
     "text": [
      "0.9999999979388463\n"
     ]
    }
   ],
   "source": [
    "# Modal equation is W1X1 + W2X2: # Modal equation is 10X1 + 10X2\n",
    "\n",
    "weights_b = [10, 10]\n",
    "parameters_b = [1, 1]\n",
    "input_b = np.dot(weights_b, parameters_b)\n",
    "output_b = sigmoid(input_b)\n",
    "print(output_b)"
   ]
  }
 ],
 "metadata": {
  "kernelspec": {
   "display_name": "Python 3",
   "language": "python",
   "name": "python3"
  },
  "language_info": {
   "codemirror_mode": {
    "name": "ipython",
    "version": 3
   },
   "file_extension": ".py",
   "mimetype": "text/x-python",
   "name": "python",
   "nbconvert_exporter": "python",
   "pygments_lexer": "ipython3",
   "version": "3.6.5"
  }
 },
 "nbformat": 4,
 "nbformat_minor": 2
}
