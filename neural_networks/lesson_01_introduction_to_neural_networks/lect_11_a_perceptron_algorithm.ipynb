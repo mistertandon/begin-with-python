{
 "cells": [
  {
   "cell_type": "code",
   "execution_count": 286,
   "metadata": {},
   "outputs": [],
   "source": [
    "import numpy as np\n",
    "import pandas as pd\n",
    "import seaborn as sb\n",
    "import matplotlib.pyplot as plt\n",
    "\n",
    "%matplotlib inline"
   ]
  },
  {
   "cell_type": "code",
   "execution_count": 287,
   "metadata": {},
   "outputs": [],
   "source": [
    "csv_data = pd.read_csv('./lect_11_b_perceptron_algorithm.csv')"
   ]
  },
  {
   "cell_type": "code",
   "execution_count": 288,
   "metadata": {},
   "outputs": [
    {
     "data": {
      "text/html": [
       "<div>\n",
       "<style scoped>\n",
       "    .dataframe tbody tr th:only-of-type {\n",
       "        vertical-align: middle;\n",
       "    }\n",
       "\n",
       "    .dataframe tbody tr th {\n",
       "        vertical-align: top;\n",
       "    }\n",
       "\n",
       "    .dataframe thead th {\n",
       "        text-align: right;\n",
       "    }\n",
       "</style>\n",
       "<table border=\"1\" class=\"dataframe\">\n",
       "  <thead>\n",
       "    <tr style=\"text-align: right;\">\n",
       "      <th></th>\n",
       "      <th>0.78051</th>\n",
       "      <th>-0.063669</th>\n",
       "      <th>1</th>\n",
       "    </tr>\n",
       "  </thead>\n",
       "  <tbody>\n",
       "    <tr>\n",
       "      <th>0</th>\n",
       "      <td>0.28774</td>\n",
       "      <td>0.29139</td>\n",
       "      <td>1</td>\n",
       "    </tr>\n",
       "    <tr>\n",
       "      <th>1</th>\n",
       "      <td>0.40714</td>\n",
       "      <td>0.17878</td>\n",
       "      <td>1</td>\n",
       "    </tr>\n",
       "  </tbody>\n",
       "</table>\n",
       "</div>"
      ],
      "text/plain": [
       "   0.78051  -0.063669  1\n",
       "0  0.28774    0.29139  1\n",
       "1  0.40714    0.17878  1"
      ]
     },
     "execution_count": 288,
     "metadata": {},
     "output_type": "execute_result"
    }
   ],
   "source": [
    "# Get csv_data initial <N> rows\n",
    "csv_data.head(2)"
   ]
  },
  {
   "cell_type": "code",
   "execution_count": 289,
   "metadata": {},
   "outputs": [
    {
     "name": "stdout",
     "output_type": "stream",
     "text": [
      "[[0.28774 0.29139]\n",
      " [0.40714 0.17878]\n",
      " [0.2923  0.4217 ]\n",
      " [0.50922 0.35256]]\n"
     ]
    }
   ],
   "source": [
    "# How to extract 0th, 1st index columns from csv_data\n",
    "zero_one_index_columns = csv_data.iloc[ : , [0, 1]]\n",
    "zero_one_index_columns_array_ref = np.array(zero_one_index_columns)\n",
    "zero_one_index_columns_array = np.array(zero_one_index_columns)[0:4]\n",
    "print(zero_one_index_columns_array)\n",
    "#print(zero_one_index_columns_array_ref)"
   ]
  },
  {
   "cell_type": "code",
   "execution_count": 290,
   "metadata": {},
   "outputs": [],
   "source": [
    "two_index_columns = csv_data.iloc[ : , [2]]\n",
    "two_index_columns_array_ref = np.array(two_index_columns)\n",
    "two_index_columns_array = np.array(two_index_columns)[0:2]\n",
    "#print(two_index_columns_array)\n",
    "#print(two_index_columns_array_ref)"
   ]
  },
  {
   "cell_type": "code",
   "execution_count": 291,
   "metadata": {},
   "outputs": [
    {
     "name": "stdout",
     "output_type": "stream",
     "text": [
      "[0.28774 0.40714 0.2923  0.50922]\n"
     ]
    }
   ],
   "source": [
    "# Uncomment below line to observe transposed matrix of csv_data using index 0\n",
    "t0 = zero_one_index_columns_array.T[0]\n",
    "print(t0)"
   ]
  },
  {
   "cell_type": "code",
   "execution_count": 292,
   "metadata": {},
   "outputs": [
    {
     "name": "stdout",
     "output_type": "stream",
     "text": [
      "[0.29139 0.17878 0.4217  0.35256]\n"
     ]
    }
   ],
   "source": [
    "# Uncomment below line to observe transposed matrix of csv_data using index 2\n",
    "t1 = zero_one_index_columns_array.T[1]\n",
    "print(t1)"
   ]
  },
  {
   "cell_type": "code",
   "execution_count": 293,
   "metadata": {},
   "outputs": [],
   "source": [
    "# Get minimum value of transposed csv_data\n",
    "#print(min(csv_data.T[0]))\n",
    "# Get minimum value of transposed csv_data\n",
    "#print(max(csv_data.T[0]))"
   ]
  },
  {
   "cell_type": "code",
   "execution_count": 294,
   "metadata": {},
   "outputs": [],
   "source": [
    "# Get minimum value of transposed csv_data\n",
    "#print(min(csv_data.T[1]))\n",
    "# Get minimum value of transposed csv_data\n",
    "#print(max(csv_data.T[1]))"
   ]
  }
 ],
 "metadata": {
  "kernelspec": {
   "display_name": "Python 3",
   "language": "python",
   "name": "python3"
  },
  "language_info": {
   "codemirror_mode": {
    "name": "ipython",
    "version": 3
   },
   "file_extension": ".py",
   "mimetype": "text/x-python",
   "name": "python",
   "nbconvert_exporter": "python",
   "pygments_lexer": "ipython3",
   "version": "3.6.5"
  }
 },
 "nbformat": 4,
 "nbformat_minor": 2
}
