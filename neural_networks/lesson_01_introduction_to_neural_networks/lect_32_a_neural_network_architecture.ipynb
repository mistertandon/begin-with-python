{
 "cells": [
  {
   "cell_type": "code",
   "execution_count": 8,
   "metadata": {},
   "outputs": [],
   "source": [
    "import numpy as np"
   ]
  },
  {
   "cell_type": "markdown",
   "metadata": {},
   "source": [
    "Based on the above video, let's define the combination of two new perceptrons as w1*0.4 + w2*0.6 + b. Which of the following values for the weights and the bias would result in the final probability of the point to be 0.88?"
   ]
  },
  {
   "cell_type": "code",
   "execution_count": 9,
   "metadata": {},
   "outputs": [
    {
     "name": "stdout",
     "output_type": "stream",
     "text": [
      "result_a : 0.9168273035060777\n"
     ]
    }
   ],
   "source": [
    "# Case A: When w1=2, w2=6, b=-2\n",
    "x_a = 2*0.4 + 6*0.6 -2\n",
    "result_a = 1 / ( 1 + np.exp(-x_a))\n",
    "print('result_a :', result_a)"
   ]
  },
  {
   "cell_type": "code",
   "execution_count": 10,
   "metadata": {},
   "outputs": [
    {
     "name": "stdout",
     "output_type": "stream",
     "text": [
      "result_b : 0.8807970779778823\n"
     ]
    }
   ],
   "source": [
    "# Case B: When w1=3, w2=5, b=-2.2\n",
    "x_b = 3*0.4 + 5*0.6 -2.2\n",
    "result_b = 1 / ( 1 + np.exp(-x_b))\n",
    "print('result_b :', result_b)"
   ]
  },
  {
   "cell_type": "code",
   "execution_count": 11,
   "metadata": {},
   "outputs": [
    {
     "name": "stdout",
     "output_type": "stream",
     "text": [
      "result_b : 0.8021838885585818\n"
     ]
    }
   ],
   "source": [
    "# Case c: When w1=5, w2=4, b=-3\n",
    "x_c = 5*0.4 + 4*0.6 -3\n",
    "result_c = 1 / ( 1 + np.exp(-x_c))\n",
    "print('result_c :', result_c)"
   ]
  }
 ],
 "metadata": {
  "kernelspec": {
   "display_name": "Python 3",
   "language": "python",
   "name": "python3"
  },
  "language_info": {
   "codemirror_mode": {
    "name": "ipython",
    "version": 3
   },
   "file_extension": ".py",
   "mimetype": "text/x-python",
   "name": "python",
   "nbconvert_exporter": "python",
   "pygments_lexer": "ipython3",
   "version": "3.6.5"
  }
 },
 "nbformat": 4,
 "nbformat_minor": 2
}
