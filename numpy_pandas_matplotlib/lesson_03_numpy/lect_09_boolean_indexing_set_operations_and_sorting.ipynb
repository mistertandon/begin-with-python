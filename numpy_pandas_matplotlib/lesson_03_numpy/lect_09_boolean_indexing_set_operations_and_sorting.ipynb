{
 "cells": [
  {
   "cell_type": "markdown",
   "metadata": {},
   "source": [
    "### Boolean Indexing, Set Operations, and Sorting"
   ]
  },
  {
   "cell_type": "code",
   "execution_count": 32,
   "metadata": {},
   "outputs": [
    {
     "name": "stdout",
     "output_type": "stream",
     "text": [
      " ndarray_a : \n",
      " [ 0  1  2  3  4  5  6  7  8  9 10 11 12 13 14 15 16 17 18 19 20 21 22 23\n",
      " 24]\n"
     ]
    }
   ],
   "source": [
    "# Import python NumPy library\n",
    "import numpy as np\n",
    "\n",
    "ndarray_a = np.arange(25)\n",
    "print(' ndarray_a : \\n', ndarray_a)"
   ]
  },
  {
   "cell_type": "markdown",
   "metadata": {},
   "source": [
    "##### Do slice ndarray_a based on boolean indexing"
   ]
  },
  {
   "cell_type": "code",
   "execution_count": 33,
   "metadata": {},
   "outputs": [
    {
     "name": "stdout",
     "output_type": "stream",
     "text": [
      "\n",
      " sliced_ndarray_a :  [ 0  1  2  3  4  5  6  7  8  9 10 11 12 13 14]\n"
     ]
    }
   ],
   "source": [
    "## Get ndarray elements that are less than 15\n",
    "sliced_ndarray_a = ndarray_a[ndarray_a < 15]\n",
    "print('\\n sliced_ndarray_a : ', sliced_ndarray_a)"
   ]
  },
  {
   "cell_type": "code",
   "execution_count": 34,
   "metadata": {},
   "outputs": [
    {
     "name": "stdout",
     "output_type": "stream",
     "text": [
      "\n",
      " sliced_ndarray_b :  [16 17 18 19 20 21 22 23 24]\n"
     ]
    }
   ],
   "source": [
    "## Get ndarray elements that are greater than 15\n",
    "sliced_ndarray_b = ndarray_a[ndarray_a > 15]\n",
    "print('\\n sliced_ndarray_b : ', sliced_ndarray_b)"
   ]
  },
  {
   "cell_type": "code",
   "execution_count": 35,
   "metadata": {},
   "outputs": [
    {
     "name": "stdout",
     "output_type": "stream",
     "text": [
      "\n",
      " ndarray_a :  [22  1 22  3 22  5 22  7 22  9 22 11 22 13 22 15 22 17 22 19 22 21 22 23\n",
      " 22]\n"
     ]
    }
   ],
   "source": [
    "## Update ndarray elements those are even with value 22\n",
    "ndarray_a[ndarray_a % 2 == 0] = 22\n",
    "print('\\n ndarray_a : ', ndarray_a)"
   ]
  },
  {
   "cell_type": "markdown",
   "metadata": {},
   "source": [
    "#### Set operations"
   ]
  },
  {
   "cell_type": "code",
   "execution_count": 36,
   "metadata": {},
   "outputs": [
    {
     "name": "stdout",
     "output_type": "stream",
     "text": [
      "set_ndarray_a: \n",
      " [0 1 2 3 4 5]\n",
      "set_ndarray_b: \n",
      " [3 4 5 6 7 8]\n"
     ]
    }
   ],
   "source": [
    "set_ndarray_a = np.arange(6)\n",
    "set_ndarray_b = np.arange(3, 9)\n",
    "print('set_ndarray_a: \\n', set_ndarray_a)\n",
    "print('set_ndarray_b: \\n', set_ndarray_b)"
   ]
  },
  {
   "cell_type": "markdown",
   "metadata": {},
   "source": [
    "##### Intersection operation"
   ]
  },
  {
   "cell_type": "code",
   "execution_count": 37,
   "metadata": {},
   "outputs": [
    {
     "name": "stdout",
     "output_type": "stream",
     "text": [
      " intersection_ndarray: \n",
      " [3 4 5]\n"
     ]
    }
   ],
   "source": [
    "intersection_ndarray = np.intersect1d(set_ndarray_a,set_ndarray_b)\n",
    "print(' intersection_ndarray: \\n', intersection_ndarray)"
   ]
  }
 ],
 "metadata": {
  "kernelspec": {
   "display_name": "Python [conda env:py36]",
   "language": "python",
   "name": "conda-env-py36-py"
  },
  "language_info": {
   "codemirror_mode": {
    "name": "ipython",
    "version": 3
   },
   "file_extension": ".py",
   "mimetype": "text/x-python",
   "name": "python",
   "nbconvert_exporter": "python",
   "pygments_lexer": "ipython3",
   "version": "3.6.5"
  }
 },
 "nbformat": 4,
 "nbformat_minor": 2
}
