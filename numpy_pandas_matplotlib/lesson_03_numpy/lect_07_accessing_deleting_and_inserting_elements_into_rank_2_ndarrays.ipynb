{
 "cells": [
  {
   "cell_type": "markdown",
   "metadata": {},
   "source": [
    "### Accessing, Deleting, and Inserting Elements Into Rank-2 ndarrays\n",
    "___"
   ]
  },
  {
   "cell_type": "code",
   "execution_count": 268,
   "metadata": {},
   "outputs": [
    {
     "name": "stdout",
     "output_type": "stream",
     "text": [
      "rank2_array:\n",
      "  [[0 1 2]\n",
      " [3 4 5]\n",
      " [6 7 8]]\n"
     ]
    }
   ],
   "source": [
    "## Import python numpy library\n",
    "import numpy as np\n",
    "\n",
    "## We create Rank-2 array using numpy function\n",
    "rank2_array = np.arange(9).reshape(3,3)\n",
    "print('rank2_array:\\n ', rank2_array)"
   ]
  },
  {
   "cell_type": "markdown",
   "metadata": {},
   "source": [
    "#### Accessing rank2_array elements using positive indices"
   ]
  },
  {
   "cell_type": "code",
   "execution_count": 269,
   "metadata": {},
   "outputs": [
    {
     "name": "stdout",
     "output_type": "stream",
     "text": [
      " Element at (0, 0) position in rank2_array:  0\n",
      " Element at (1, 3) position in rank2_array:  5\n"
     ]
    }
   ],
   "source": [
    "print(' Element at (0, 0) position in rank2_array: ', rank2_array[0, 0])\n",
    "print(' Element at (1, 3) position in rank2_array: ', rank2_array[1, 2])"
   ]
  },
  {
   "cell_type": "markdown",
   "metadata": {},
   "source": [
    "#### Accessing rank2_array elements using negative indices"
   ]
  },
  {
   "cell_type": "code",
   "execution_count": 270,
   "metadata": {},
   "outputs": [
    {
     "name": "stdout",
     "output_type": "stream",
     "text": [
      " Element at (0, 0) position in rank2_array:  0\n",
      " Element at (1, 3) position in rank2_array:  5\n"
     ]
    }
   ],
   "source": [
    "print(' Element at (0, 0) position in rank2_array: ', rank2_array[-3, -3])\n",
    "print(' Element at (1, 3) position in rank2_array: ', rank2_array[-2, -1])"
   ]
  },
  {
   "cell_type": "markdown",
   "metadata": {},
   "source": [
    "#### Update particular element in rank2_array ndarray"
   ]
  },
  {
   "cell_type": "code",
   "execution_count": 271,
   "metadata": {},
   "outputs": [
    {
     "name": "stdout",
     "output_type": "stream",
     "text": [
      " Element at (0, 0) position before update:  0\n",
      " Element at (0, 0) position after update:  11\n"
     ]
    }
   ],
   "source": [
    "print(' Element at (0, 0) position before update: ', rank2_array[-3, 0])\n",
    "rank2_array[-3, 0] = 11\n",
    "print(' Element at (0, 0) position after update: ', rank2_array[-3, 0])"
   ]
  },
  {
   "cell_type": "markdown",
   "metadata": {},
   "source": [
    "#### Delete row in rank2_array ndarray\n",
    "##### Delete 2nd and 3rd row in rank2_array ndarray"
   ]
  },
  {
   "cell_type": "code",
   "execution_count": 272,
   "metadata": {},
   "outputs": [
    {
     "name": "stdout",
     "output_type": "stream",
     "text": [
      " rank2_array ndarray, before deleting 2nd and 3rd rows: \n",
      " [[11  1  2]\n",
      " [ 3  4  5]\n",
      " [ 6  7  8]]\n",
      "\n",
      " new ndarray, after deleting 2nd and 3rd rows: \n",
      " [[11  1  2]]\n"
     ]
    }
   ],
   "source": [
    "print(' rank2_array ndarray, before deleting 2nd and 3rd rows: \\n', rank2_array)\n",
    "rank2_array_del_a = np.delete(rank2_array, [1, 2], axis=0)\n",
    "print('\\n new ndarray, after deleting 2nd and 3rd rows: \\n', rank2_array_del_a)"
   ]
  },
  {
   "cell_type": "markdown",
   "metadata": {},
   "source": [
    "#### Delete column in rank2_array ndarray\n",
    "#####     Delete 1st and 3rd column in rank2_array ndarray"
   ]
  },
  {
   "cell_type": "code",
   "execution_count": 273,
   "metadata": {},
   "outputs": [
    {
     "name": "stdout",
     "output_type": "stream",
     "text": [
      " rank2_array ndarray, before deleting 1st and 3rd columns: \n",
      " [[11  1  2]\n",
      " [ 3  4  5]\n",
      " [ 6  7  8]]\n",
      "\n",
      " new ndarray, after deleting 1st and 3rd columns: \n",
      " [[1]\n",
      " [4]\n",
      " [7]]\n"
     ]
    }
   ],
   "source": [
    "print(' rank2_array ndarray, before deleting 1st and 3rd columns: \\n', rank2_array)\n",
    "rank2_array_del_b = np.delete(rank2_array, [0, 2], axis=1)\n",
    "print('\\n new ndarray, after deleting 1st and 3rd columns: \\n', rank2_array_del_b)"
   ]
  },
  {
   "cell_type": "markdown",
   "metadata": {},
   "source": [
    "#### Append elements to ndarray\n",
    "##### Append elements to row in rank2_array"
   ]
  },
  {
   "cell_type": "code",
   "execution_count": 274,
   "metadata": {},
   "outputs": [
    {
     "name": "stdout",
     "output_type": "stream",
     "text": [
      " rank2_array ndarray before appending elements in row: \n",
      " [[11  1  2]\n",
      " [ 3  4  5]\n",
      " [ 6  7  8]]\n",
      "\n",
      " append_rank2_array ndarray after appending elements in row: \n",
      " [[11  1  2]\n",
      " [ 3  4  5]\n",
      " [ 6  7  8]\n",
      " [21 22 23]]\n"
     ]
    }
   ],
   "source": [
    "print(' rank2_array ndarray before appending elements in row: \\n', rank2_array)\n",
    "append_rank2_array = np.append(rank2_array, [[21, 22, 23]], axis=0)\n",
    "print('\\n append_rank2_array ndarray after appending elements in row: \\n', append_rank2_array)"
   ]
  },
  {
   "cell_type": "markdown",
   "metadata": {},
   "source": [
    "##### Append elements to columns in rank2_array"
   ]
  },
  {
   "cell_type": "code",
   "execution_count": 275,
   "metadata": {},
   "outputs": [
    {
     "name": "stdout",
     "output_type": "stream",
     "text": [
      " rank2_array ndarray before appending elements in column: \n",
      " [[11  1  2]\n",
      " [ 3  4  5]\n",
      " [ 6  7  8]]\n",
      "\n",
      " append_rank2_array ndarray after appending elements in column: \n",
      " [[11  1  2 41]\n",
      " [ 3  4  5 42]\n",
      " [ 6  7  8 43]]\n"
     ]
    }
   ],
   "source": [
    "print(' rank2_array ndarray before appending elements in column: \\n', rank2_array)\n",
    "append_rank2_array_col = np.append(rank2_array, [[41], [42], [43]], axis=1)\n",
    "print('\\n append_rank2_array ndarray after appending elements in column: \\n', append_rank2_array_col)"
   ]
  },
  {
   "cell_type": "markdown",
   "metadata": {},
   "source": [
    "##### Insert column to rank2_array"
   ]
  },
  {
   "cell_type": "code",
   "execution_count": 276,
   "metadata": {},
   "outputs": [
    {
     "name": "stdout",
     "output_type": "stream",
     "text": [
      " rank2_array ndarray before inserting column: \n",
      " [[11  1  2]\n",
      " [ 3  4  5]\n",
      " [ 6  7  8]]\n",
      "\n",
      " insert_rank2_array_col ndarray after inserting column: \n",
      " [[11 41  1  2]\n",
      " [ 3 42  4  5]\n",
      " [ 6 43  7  8]]\n"
     ]
    }
   ],
   "source": [
    "print(' rank2_array ndarray before inserting column: \\n', rank2_array)\n",
    "insert_rank2_array_col = np.insert(rank2_array, 1, [41, 42, 43], axis=1)\n",
    "print('\\n insert_rank2_array_col ndarray after inserting column: \\n', insert_rank2_array_col)"
   ]
  },
  {
   "cell_type": "markdown",
   "metadata": {},
   "source": [
    "#### Stack ndarray vertically"
   ]
  },
  {
   "cell_type": "code",
   "execution_count": 277,
   "metadata": {},
   "outputs": [
    {
     "name": "stdout",
     "output_type": "stream",
     "text": [
      " rank2_array ndarray : \n",
      " [[11  1  2]\n",
      " [ 3  4  5]\n",
      " [ 6  7  8]]\n",
      "\n",
      " After stacking horizontally rank2_array_vstack ndarray : \n",
      " [[11  1  2]\n",
      " [ 3  4  5]\n",
      " [ 6  7  8]\n",
      " [71 72 73]]\n"
     ]
    }
   ],
   "source": [
    "print(' rank2_array ndarray : \\n', rank2_array)\n",
    "rank2_array_vstack = np.vstack((rank2_array, [71, 72, 73]))\n",
    "print('\\n After stacking horizontally rank2_array_vstack ndarray : \\n', rank2_array_vstack)\n"
   ]
  },
  {
   "cell_type": "markdown",
   "metadata": {},
   "source": [
    "#### Stack ndarray horizontally"
   ]
  },
  {
   "cell_type": "code",
   "execution_count": 278,
   "metadata": {},
   "outputs": [
    {
     "name": "stdout",
     "output_type": "stream",
     "text": [
      " rank2_array ndarray : \n",
      " [[11  1  2]\n",
      " [ 3  4  5]\n",
      " [ 6  7  8]]\n",
      "\n",
      " After stacking horizontally rank2_array_hstack ndarray : \n",
      " [[11  1  2 71]\n",
      " [ 3  4  5 72]\n",
      " [ 6  7  8 73]]\n"
     ]
    }
   ],
   "source": [
    "print(' rank2_array ndarray : \\n', rank2_array)\n",
    "rank2_array_hstack = np.hstack((rank2_array, [[71], [72], [73]]))\n",
    "print('\\n After stacking horizontally rank2_array_hstack ndarray : \\n', rank2_array_hstack)"
   ]
  }
 ],
 "metadata": {
  "kernelspec": {
   "display_name": "Python [conda env:py36]",
   "language": "python",
   "name": "conda-env-py36-py"
  },
  "language_info": {
   "codemirror_mode": {
    "name": "ipython",
    "version": 3
   },
   "file_extension": ".py",
   "mimetype": "text/x-python",
   "name": "python",
   "nbconvert_exporter": "python",
   "pygments_lexer": "ipython3",
   "version": "3.6.5"
  }
 },
 "nbformat": 4,
 "nbformat_minor": 2
}
