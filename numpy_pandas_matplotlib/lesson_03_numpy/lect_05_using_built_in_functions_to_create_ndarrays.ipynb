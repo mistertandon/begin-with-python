{
 "cells": [
  {
   "cell_type": "markdown",
   "metadata": {},
   "source": [
    "## In this notebook we'll learn various ways to create array using NumPy buit-in functions"
   ]
  },
  {
   "cell_type": "markdown",
   "metadata": {},
   "source": [
    "### Create an ndarray with a specified shape that is full of zeros"
   ]
  },
  {
   "cell_type": "code",
   "execution_count": 210,
   "metadata": {},
   "outputs": [],
   "source": [
    "import numpy as np\n",
    "\n",
    "zeros_array = np.zeros((2, 3))"
   ]
  },
  {
   "cell_type": "code",
   "execution_count": 211,
   "metadata": {},
   "outputs": [
    {
     "name": "stdout",
     "output_type": "stream",
     "text": [
      " zeros_array : \n",
      " [[0. 0. 0.]\n",
      " [0. 0. 0.]]\n",
      "\n",
      " zeros_array has dimension: (2, 3)\n",
      " zeros_array is an object of type : <class 'numpy.ndarray'>\n",
      " The elements in zeros_array are of type : float64\n"
     ]
    }
   ],
   "source": [
    "print(' zeros_array : \\n', zeros_array)\n",
    "print('\\n zeros_array has dimension:', zeros_array.shape)\n",
    "print(' zeros_array is an object of type :', type(zeros_array))\n",
    "print(' The elements in zeros_array are of type :', zeros_array.dtype)"
   ]
  },
  {
   "cell_type": "markdown",
   "metadata": {},
   "source": [
    "### Create an ndarray with a specified shape that is full of ones"
   ]
  },
  {
   "cell_type": "code",
   "execution_count": 212,
   "metadata": {},
   "outputs": [],
   "source": [
    "ones_array = np.ones((2, 3))"
   ]
  },
  {
   "cell_type": "code",
   "execution_count": 213,
   "metadata": {},
   "outputs": [
    {
     "name": "stdout",
     "output_type": "stream",
     "text": [
      " ones_array : \n",
      " [[1. 1. 1.]\n",
      " [1. 1. 1.]]\n",
      "\n",
      " ones_array has dimension: (2, 3)\n",
      " ones_array is an object of type : <class 'numpy.ndarray'>\n",
      " The elements in ones_array are of type : float64\n"
     ]
    }
   ],
   "source": [
    "print(' ones_array : \\n', ones_array)\n",
    "print('\\n ones_array has dimension:', ones_array.shape)\n",
    "print(' ones_array is an object of type :', type(ones_array))\n",
    "print(' The elements in ones_array are of type :', ones_array.dtype)"
   ]
  },
  {
   "cell_type": "markdown",
   "metadata": {},
   "source": [
    "### Create an ndarray with a specified shape that is full of particular constant"
   ]
  },
  {
   "cell_type": "code",
   "execution_count": 214,
   "metadata": {},
   "outputs": [],
   "source": [
    "full_array = np.full((2, 3), 3)"
   ]
  },
  {
   "cell_type": "code",
   "execution_count": 215,
   "metadata": {},
   "outputs": [
    {
     "name": "stdout",
     "output_type": "stream",
     "text": [
      " full_array: \n",
      " [[3 3 3]\n",
      " [3 3 3]]\n",
      "\n",
      " full_array has dimension:  (2, 3)\n",
      " full_array is an object of type:  <class 'numpy.ndarray'>\n",
      " The elements in full_array are of type:  int32\n"
     ]
    }
   ],
   "source": [
    "print(' full_array: \\n', full_array)\n",
    "print('\\n full_array has dimension: ', full_array.shape)\n",
    "print(' full_array is an object of type: ', type(full_array))\n",
    "print(' The elements in full_array are of type: ', full_array.dtype)"
   ]
  },
  {
   "cell_type": "markdown",
   "metadata": {},
   "source": [
    "### Create a identity matrix"
   ]
  },
  {
   "cell_type": "code",
   "execution_count": 216,
   "metadata": {},
   "outputs": [],
   "source": [
    "identity_array = np.eye(3)"
   ]
  },
  {
   "cell_type": "code",
   "execution_count": 217,
   "metadata": {},
   "outputs": [
    {
     "name": "stdout",
     "output_type": "stream",
     "text": [
      "identity_array:  [[1. 0. 0.]\n",
      " [0. 1. 0.]\n",
      " [0. 0. 1.]]\n",
      "\n",
      " identity_array has dimension:  (3, 3)\n",
      " identity_array is an object of type:  <class 'numpy.ndarray'>\n",
      " The elements in identity_array are of type:  float64\n"
     ]
    }
   ],
   "source": [
    "print('identity_array: ', identity_array)\n",
    "print('\\n identity_array has dimension: ', identity_array.shape)\n",
    "print(' identity_array is an object of type: ', type(identity_array))\n",
    "print(' The elements in identity_array are of type: ', identity_array.dtype)"
   ]
  },
  {
   "cell_type": "markdown",
   "metadata": {},
   "source": [
    "### Create a Diagonal matrix"
   ]
  },
  {
   "cell_type": "code",
   "execution_count": 218,
   "metadata": {},
   "outputs": [],
   "source": [
    "diagonal_array = np.diag([2 ,3])"
   ]
  },
  {
   "cell_type": "code",
   "execution_count": 219,
   "metadata": {
    "scrolled": true
   },
   "outputs": [
    {
     "name": "stdout",
     "output_type": "stream",
     "text": [
      " diagonal_array: \n",
      " [[2 0]\n",
      " [0 3]]\n",
      "\n",
      " diagonal_array has dimension:  (2, 2)\n",
      " diagonal_array is an object of type:  <class 'numpy.ndarray'>\n",
      " The elements in diagonal_array are of type:  int32\n"
     ]
    }
   ],
   "source": [
    "print(' diagonal_array: \\n', diagonal_array)\n",
    "print('\\n diagonal_array has dimension: ', diagonal_array.shape)\n",
    "print(' diagonal_array is an object of type: ', type(diagonal_array))\n",
    "print(' The elements in diagonal_array are of type: ', diagonal_array.dtype)"
   ]
  },
  {
   "cell_type": "markdown",
   "metadata": {},
   "source": [
    "### Create a evenly spaced array (within a given interval)"
   ]
  },
  {
   "cell_type": "code",
   "execution_count": 220,
   "metadata": {},
   "outputs": [],
   "source": [
    "arange_array_a = np.arange(5)"
   ]
  },
  {
   "cell_type": "code",
   "execution_count": 221,
   "metadata": {},
   "outputs": [
    {
     "name": "stdout",
     "output_type": "stream",
     "text": [
      "\n",
      " arange_array_a:  [0 1 2 3 4]\n",
      " arange_array_a has dimension:  (5,)\n",
      " arange_array_a is an object of type:  <class 'numpy.ndarray'>\n",
      " The elements in arange_array_a are of type:  int32\n"
     ]
    }
   ],
   "source": [
    "print('\\n arange_array_a: ', arange_array_a)\n",
    "print(' arange_array_a has dimension: ', arange_array_a.shape)\n",
    "print(' arange_array_a is an object of type: ', type(arange_array_a))\n",
    "print(' The elements in arange_array_a are of type: ', arange_array_a.dtype)"
   ]
  },
  {
   "cell_type": "code",
   "execution_count": 222,
   "metadata": {},
   "outputs": [
    {
     "name": "stdout",
     "output_type": "stream",
     "text": [
      "\n",
      " arange_array_b: \n",
      " [5 6 7 8 9]\n",
      "\n",
      " arange_array_c: \n",
      " [5 7 9]\n"
     ]
    }
   ],
   "source": [
    "# np.arange(start, stop)\n",
    "arange_array_b = np.arange(5, 10)\n",
    "\n",
    "print('\\n arange_array_b: \\n', arange_array_b)\n",
    "\n",
    "# np.arange(start, stop, step)\n",
    "arange_array_c = np.arange(5, 10, 2)\n",
    "\n",
    "print('\\n arange_array_c: \\n', arange_array_c)"
   ]
  },
  {
   "cell_type": "markdown",
   "metadata": {},
   "source": [
    "### NumPy linspace function linspace(start, stop, N=50)"
   ]
  },
  {
   "cell_type": "code",
   "execution_count": 223,
   "metadata": {},
   "outputs": [
    {
     "name": "stdout",
     "output_type": "stream",
     "text": [
      "\n",
      " linspace_array: \n",
      " [ 2.  6. 10.]\n"
     ]
    }
   ],
   "source": [
    "linspace_array = np.linspace(2, 10, 3)\n",
    "print('\\n linspace_array: \\n', linspace_array)"
   ]
  },
  {
   "cell_type": "code",
   "execution_count": 224,
   "metadata": {},
   "outputs": [],
   "source": [
    "### NumPy reshape function"
   ]
  },
  {
   "cell_type": "code",
   "execution_count": 225,
   "metadata": {},
   "outputs": [],
   "source": [
    "reshape_array_a = np.arange(0, 20, 2).reshape(2, 5)"
   ]
  },
  {
   "cell_type": "code",
   "execution_count": 226,
   "metadata": {},
   "outputs": [
    {
     "name": "stdout",
     "output_type": "stream",
     "text": [
      "\n",
      " reshape_array_a: \n",
      " [[ 0  2  4  6  8]\n",
      " [10 12 14 16 18]]\n"
     ]
    }
   ],
   "source": [
    "print('\\n reshape_array_a: \\n', reshape_array_a)"
   ]
  },
  {
   "cell_type": "code",
   "execution_count": 227,
   "metadata": {},
   "outputs": [],
   "source": [
    "### NumPy normal function"
   ]
  },
  {
   "cell_type": "code",
   "execution_count": 228,
   "metadata": {},
   "outputs": [],
   "source": [
    "normal_array = np.random.normal(0, 0.1, size=(5, 5))"
   ]
  },
  {
   "cell_type": "code",
   "execution_count": 229,
   "metadata": {},
   "outputs": [
    {
     "name": "stdout",
     "output_type": "stream",
     "text": [
      "\n",
      " normal_array: \n",
      " [[ 0.06271461  0.02182326 -0.1648869  -0.11664919  0.02524245]\n",
      " [-0.16357312  0.02737127 -0.01133025 -0.00408326 -0.00099903]\n",
      " [ 0.12467777 -0.09220197 -0.04724684 -0.05465412 -0.084702  ]\n",
      " [ 0.17696349 -0.02744352  0.07930023  0.03215985  0.02620604]\n",
      " [-0.07854299 -0.04431918  0.09689031  0.00863857 -0.05781096]]\n"
     ]
    }
   ],
   "source": [
    "print('\\n normal_array: \\n', normal_array)"
   ]
  }
 ],
 "metadata": {
  "kernelspec": {
   "display_name": "Python [conda env:py36]",
   "language": "python",
   "name": "conda-env-py36-py"
  },
  "language_info": {
   "codemirror_mode": {
    "name": "ipython",
    "version": 3
   },
   "file_extension": ".py",
   "mimetype": "text/x-python",
   "name": "python",
   "nbconvert_exporter": "python",
   "pygments_lexer": "ipython3",
   "version": "3.6.5"
  }
 },
 "nbformat": 4,
 "nbformat_minor": 2
}
