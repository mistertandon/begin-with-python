{
 "cells": [
  {
   "cell_type": "code",
   "execution_count": null,
   "metadata": {},
   "outputs": [],
   "source": []
  },
  {
   "cell_type": "code",
   "execution_count": 22,
   "metadata": {},
   "outputs": [
    {
     "name": "stdout",
     "output_type": "stream",
     "text": [
      " groceries: \n",
      " eggs       30\n",
      "apples      6\n",
      "milk      Yes\n",
      "bread      No\n",
      "dtype: object\n"
     ]
    }
   ],
   "source": [
    "import pandas as pd\n",
    "groceries = pd.Series(data = [30, 6, 'Yes', 'No'], index = ['eggs', 'apples', 'milk', 'bread'])\n",
    "print(' groceries: \\n', groceries)"
   ]
  },
  {
   "cell_type": "code",
   "execution_count": 23,
   "metadata": {},
   "outputs": [
    {
     "name": "stdout",
     "output_type": "stream",
     "text": [
      " How many eggs do we need to buy:  30\n",
      " How many eggs do we need to buy:  30\n",
      " Do we need bread: No\n"
     ]
    }
   ],
   "source": [
    "print(' How many eggs do we need to buy: ', groceries[0])\n",
    "# Using labeled index\n",
    "print(' How many eggs do we need to buy: ', groceries['eggs'])\n",
    "print(' Do we need bread:', groceries[-1])"
   ]
  },
  {
   "cell_type": "code",
   "execution_count": 24,
   "metadata": {},
   "outputs": [
    {
     "name": "stdout",
     "output_type": "stream",
     "text": [
      " Do we need bread and milk: \n",
      " eggs     30\n",
      "milk    Yes\n",
      "dtype: object\n",
      "\n",
      " Do we need bread and milk: \n",
      " eggs     30\n",
      "bread    No\n",
      "dtype: object\n"
     ]
    }
   ],
   "source": [
    "print(' Do we need bread and milk: \\n', groceries[['eggs', 'milk']])\n",
    "# Using labeled index\n",
    "print('\\n Do we need bread and milk: \\n', groceries[[0, 3]])"
   ]
  },
  {
   "cell_type": "code",
   "execution_count": 25,
   "metadata": {},
   "outputs": [
    {
     "name": "stdout",
     "output_type": "stream",
     "text": [
      " Do we need bread: bread    No\n",
      "dtype: object\n",
      "\n",
      " Do we need bread: bread    No\n",
      "dtype: object\n"
     ]
    }
   ],
   "source": [
    "# Using loc property of Pandas Series\n",
    "print(' Do we need bread:', groceries.loc[['bread']])\n",
    "# Using iloc property of Pandas Series\n",
    "print('\\n Do we need bread:', groceries.iloc[[-1]])"
   ]
  },
  {
   "cell_type": "code",
   "execution_count": 26,
   "metadata": {},
   "outputs": [
    {
     "name": "stdout",
     "output_type": "stream",
     "text": [
      " Updated groceries list: \n",
      " eggs       36\n",
      "apples      6\n",
      "milk      Yes\n",
      "bread      No\n",
      "dtype: object\n"
     ]
    }
   ],
   "source": [
    "# How to update elements in Pandas Series\n",
    "groceries['eggs'] = 36\n",
    "print(' Updated groceries list: \\n', groceries)"
   ]
  },
  {
   "cell_type": "code",
   "execution_count": 27,
   "metadata": {
    "scrolled": true
   },
   "outputs": [
    {
     "name": "stdout",
     "output_type": "stream",
     "text": [
      " Original groceries Pandas Series: \n",
      " eggs       36\n",
      "apples      6\n",
      "milk      Yes\n",
      "bread      No\n",
      "dtype: object\n",
      " \n",
      "Updated groceries Pandas Series: \n",
      " eggs       36\n",
      "apples      6\n",
      "milk      Yes\n",
      "dtype: object\n"
     ]
    }
   ],
   "source": [
    "# How to delete elements in Pandas Series out of place\n",
    "# Here we are deleteing <bread> item from <groceries> Pandas Series\n",
    "updated_groceries = groceries.drop('bread')\n",
    "print(' Original groceries Pandas Series: \\n', groceries)\n",
    "print(' \\nUpdated groceries Pandas Series: \\n', updated_groceries)"
   ]
  },
  {
   "cell_type": "code",
   "execution_count": 28,
   "metadata": {},
   "outputs": [
    {
     "name": "stdout",
     "output_type": "stream",
     "text": [
      " Original groceries Pandas Series: \n",
      " eggs       36\n",
      "apples      6\n",
      "milk      Yes\n",
      "dtype: object\n"
     ]
    }
   ],
   "source": [
    "# How to delete elements in Pandas Series in place\n",
    "# Here we are deleteing <bread> item from <groceries> Pandas Series\n",
    "updated_groceries = groceries.drop('bread', inplace = True)\n",
    "print(' Original groceries Pandas Series: \\n', groceries)"
   ]
  }
 ],
 "metadata": {
  "kernelspec": {
   "display_name": "Python [conda env:py36]",
   "language": "python",
   "name": "conda-env-py36-py"
  },
  "language_info": {
   "codemirror_mode": {
    "name": "ipython",
    "version": 3
   },
   "file_extension": ".py",
   "mimetype": "text/x-python",
   "name": "python",
   "nbconvert_exporter": "python",
   "pygments_lexer": "ipython3",
   "version": "3.6.5"
  }
 },
 "nbformat": 4,
 "nbformat_minor": 2
}
