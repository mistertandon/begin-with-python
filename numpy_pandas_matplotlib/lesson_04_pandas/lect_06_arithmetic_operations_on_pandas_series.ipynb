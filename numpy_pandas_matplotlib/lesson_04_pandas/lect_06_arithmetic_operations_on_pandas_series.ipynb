{
 "cells": [
  {
   "cell_type": "code",
   "execution_count": 183,
   "metadata": {},
   "outputs": [
    {
     "name": "stdout",
     "output_type": "stream",
     "text": [
      " groceries: \n",
      " apples     10\n",
      "oranges     6\n",
      "bananas     3\n",
      "dtype: int64\n"
     ]
    }
   ],
   "source": [
    "import pandas as pd\n",
    "import numpy as np\n",
    "\n",
    "groceries = pd.Series(data = [10, 6, 3], index = ['apples', 'oranges', 'bananas'])\n",
    "print(' groceries: \\n', groceries)"
   ]
  },
  {
   "cell_type": "markdown",
   "metadata": {},
   "source": [
    "#### We will perform basic element-wise operations using airthmatic symbols "
   ]
  },
  {
   "cell_type": "code",
   "execution_count": 184,
   "metadata": {},
   "outputs": [
    {
     "name": "stdout",
     "output_type": "stream",
     "text": [
      " groceries + 2: \n",
      " apples     12\n",
      "oranges     8\n",
      "bananas     5\n",
      "dtype: int64\n"
     ]
    }
   ],
   "source": [
    "print(' groceries + 2: \\n', groceries + 2)"
   ]
  },
  {
   "cell_type": "code",
   "execution_count": 185,
   "metadata": {},
   "outputs": [
    {
     "name": "stdout",
     "output_type": "stream",
     "text": [
      " groceries - 2: \n",
      " apples     8\n",
      "oranges    4\n",
      "bananas    1\n",
      "dtype: int64\n"
     ]
    }
   ],
   "source": [
    "print(' groceries - 2: \\n', groceries - 2)"
   ]
  },
  {
   "cell_type": "code",
   "execution_count": 186,
   "metadata": {},
   "outputs": [
    {
     "name": "stdout",
     "output_type": "stream",
     "text": [
      " groceries * 2: \n",
      " apples     20\n",
      "oranges    12\n",
      "bananas     6\n",
      "dtype: int64\n"
     ]
    }
   ],
   "source": [
    "print(' groceries * 2: \\n', groceries * 2)"
   ]
  },
  {
   "cell_type": "code",
   "execution_count": 187,
   "metadata": {},
   "outputs": [
    {
     "name": "stdout",
     "output_type": "stream",
     "text": [
      " groceries / 2: \n",
      " apples     5.0\n",
      "oranges    3.0\n",
      "bananas    1.5\n",
      "dtype: float64\n"
     ]
    }
   ],
   "source": [
    "print(' groceries / 2: \\n', groceries / 2)"
   ]
  },
  {
   "cell_type": "markdown",
   "metadata": {},
   "source": [
    "#### Apply mathematical functions from NumPy ndarray"
   ]
  },
  {
   "cell_type": "code",
   "execution_count": 188,
   "metadata": {},
   "outputs": [
    {
     "name": "stdout",
     "output_type": "stream",
     "text": [
      " Original groceries: \n",
      " apples     10\n",
      "oranges     6\n",
      "bananas     3\n",
      "dtype: int64\n",
      " \n",
      "EXP(x) : \n",
      " apples     22026.465795\n",
      "oranges      403.428793\n",
      "bananas       20.085537\n",
      "dtype: float64\n"
     ]
    }
   ],
   "source": [
    "print(' Original groceries: \\n', groceries)\n",
    "print(' \\nEXP(x) : \\n', np.exp(groceries))"
   ]
  },
  {
   "cell_type": "code",
   "execution_count": 189,
   "metadata": {},
   "outputs": [
    {
     "name": "stdout",
     "output_type": "stream",
     "text": [
      " Original groceries: \n",
      " apples     10\n",
      "oranges     6\n",
      "bananas     3\n",
      "dtype: int64\n",
      " \n",
      "SQRT(x) : \n",
      " apples     3.162278\n",
      "oranges    2.449490\n",
      "bananas    1.732051\n",
      "dtype: float64\n"
     ]
    }
   ],
   "source": [
    "print(' Original groceries: \\n', groceries)\n",
    "print(' \\nSQRT(x) : \\n', np.sqrt(groceries))"
   ]
  },
  {
   "cell_type": "code",
   "execution_count": 190,
   "metadata": {},
   "outputs": [
    {
     "name": "stdout",
     "output_type": "stream",
     "text": [
      " Original groceries: \n",
      " apples     10\n",
      "oranges     6\n",
      "bananas     3\n",
      "dtype: int64\n",
      " \n",
      "POW(x) : \n",
      " apples     100\n",
      "oranges     36\n",
      "bananas      9\n",
      "dtype: int64\n"
     ]
    }
   ],
   "source": [
    "print(' Original groceries: \\n', groceries)\n",
    "print(' \\nPOW(x) : \\n', np.power(groceries, 2))"
   ]
  },
  {
   "cell_type": "code",
   "execution_count": 191,
   "metadata": {},
   "outputs": [
    {
     "name": "stdout",
     "output_type": "stream",
     "text": [
      " Original groceries : \n",
      " apples     10\n",
      "oranges     6\n",
      "bananas     3\n",
      "dtype: int64\n",
      "\n",
      " Amount of apples in groceries + 2 =  apples    12\n",
      "dtype: int64\n",
      "\n",
      " Amount of apples and oranges in groceries + 2 = \n",
      " apples     12\n",
      "oranges     8\n",
      "dtype: int64\n",
      "\n",
      " Amount of apples and oranges in groceries + 2 = \n",
      " apples     12\n",
      "oranges     8\n",
      "dtype: int64\n",
      "\n",
      " Amount of apples in groceries + 2 using <loc> = \n",
      " apples    12\n",
      "dtype: int64\n",
      "\n",
      " Amount of apples and oranges in groceries + 2 using <loc> = \n",
      " apples     12\n",
      "oranges     8\n",
      "dtype: int64\n",
      "\n",
      " Amount of apples in groceries + 2 <iloc> = \n",
      " apples    12\n",
      "dtype: int64\n",
      "\n",
      " Amount of apples and oranges in groceries + 2 using <iloc> = \n",
      " apples     12\n",
      "oranges     8\n",
      "dtype: int64\n"
     ]
    }
   ],
   "source": [
    "# Airthmatic operation for particular elements\n",
    "print(' Original groceries : \\n', groceries)\n",
    "print('\\n Amount of apples in groceries + 2 = ', groceries[['apples']] + 2)\n",
    "print('\\n Amount of apples and oranges in groceries + 2 = \\n', groceries[['apples', 'oranges']] + 2)\n",
    "print('\\n Amount of apples and oranges in groceries + 2 = \\n', groceries[[0, 1]] + 2)\n",
    "print('\\n Amount of apples in groceries + 2 using <loc> = \\n', groceries.loc[['apples']] + 2)\n",
    "print('\\n Amount of apples and oranges in groceries + 2 using <loc> = \\n', groceries.loc[['apples', 'oranges']] + 2)\n",
    "print('\\n Amount of apples in groceries + 2 <iloc> = \\n', groceries.iloc[[0]] + 2)\n",
    "print('\\n Amount of apples and oranges in groceries + 2 using <iloc> = \\n', groceries.iloc[[0, 1]] + 2)"
   ]
  }
 ],
 "metadata": {
  "kernelspec": {
   "display_name": "Python [conda env:py36]",
   "language": "python",
   "name": "conda-env-py36-py"
  },
  "language_info": {
   "codemirror_mode": {
    "name": "ipython",
    "version": 3
   },
   "file_extension": ".py",
   "mimetype": "text/x-python",
   "name": "python",
   "nbconvert_exporter": "python",
   "pygments_lexer": "ipython3",
   "version": "3.6.5"
  }
 },
 "nbformat": 4,
 "nbformat_minor": 2
}
