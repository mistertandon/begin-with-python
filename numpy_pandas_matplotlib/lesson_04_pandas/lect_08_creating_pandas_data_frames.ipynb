{
 "cells": [
  {
   "cell_type": "code",
   "execution_count": 66,
   "metadata": {},
   "outputs": [
    {
     "name": "stdout",
     "output_type": "stream",
     "text": [
      " Original Items:: \n",
      " {'Bob': bike     245\n",
      "pants     25\n",
      "watch     55\n",
      "dtype: int64, 'Alice': book        40\n",
      "glasses    110\n",
      "bike       500\n",
      "pants       45\n",
      "dtype: int64}\n",
      "\n",
      " Original Items is of type:  <class 'dict'>\n"
     ]
    }
   ],
   "source": [
    "import pandas as pd\n",
    "items = {\n",
    "    'Bob': pd.Series(data = [245, 25, 55], index = ['bike', 'pants', 'watch']),\n",
    "    'Alice': pd.Series(data = [40, 110, 500, 45], index = ['book', 'glasses', 'bike', 'pants'])\n",
    "}\n",
    "print(' Original Items:: \\n', items)\n",
    "print('\\n Original Items is of type: ', type(items))"
   ]
  },
  {
   "cell_type": "code",
   "execution_count": 67,
   "metadata": {},
   "outputs": [
    {
     "name": "stdout",
     "output_type": "stream",
     "text": [
      " items DataFrame:: \n",
      "          Alice    Bob\n",
      "bike     500.0  245.0\n",
      "book      40.0    NaN\n",
      "glasses  110.0    NaN\n",
      "pants     45.0   25.0\n",
      "watch      NaN   55.0\n"
     ]
    }
   ],
   "source": [
    "print(' items DataFrame:: \\n', pd.DataFrame(items))"
   ]
  },
  {
   "cell_type": "code",
   "execution_count": 68,
   "metadata": {},
   "outputs": [
    {
     "name": "stdout",
     "output_type": "stream",
     "text": [
      " items_no_index DataFrame:: \n",
      " {'Bob': 0    245\n",
      "1     25\n",
      "2     55\n",
      "dtype: int64, 'Alice': 0     40\n",
      "1    110\n",
      "2    500\n",
      "3     45\n",
      "dtype: int64}\n"
     ]
    }
   ],
   "source": [
    "# Create a Pandas DataFrame of Pandas Series with no index\n",
    "items_no_index = {\n",
    "    'Bob': pd.Series([245, 25, 55]),\n",
    "    'Alice': pd.Series([40, 110, 500, 45])\n",
    "}\n",
    "print(' items_no_index DataFrame:: \\n', items_no_index)"
   ]
  },
  {
   "cell_type": "code",
   "execution_count": 69,
   "metadata": {},
   "outputs": [
    {
     "name": "stdout",
     "output_type": "stream",
     "text": [
      " items DataFrame:: \n",
      "          Alice\n",
      "book        40\n",
      "glasses    110\n",
      "bike       500\n",
      "pants       45\n"
     ]
    }
   ],
   "source": [
    "# Put particular coulmn in DataFrame\n",
    "print(' items DataFrame:: \\n', pd.DataFrame(items, columns = ['Alice']))"
   ]
  },
  {
   "cell_type": "code",
   "execution_count": 70,
   "metadata": {},
   "outputs": [
    {
     "name": "stdout",
     "output_type": "stream",
     "text": [
      " items DataFrame:: \n",
      "        Alice  Bob\n",
      "bike     500  245\n",
      "pants     45   25\n"
     ]
    }
   ],
   "source": [
    "# Create a DataFrame that only has selected items for both 'Alice' and 'Bob'\n",
    "print(' items DataFrame:: \\n', pd.DataFrame(items, index = ['bike', 'pants']))"
   ]
  },
  {
   "cell_type": "code",
   "execution_count": 71,
   "metadata": {},
   "outputs": [
    {
     "name": "stdout",
     "output_type": "stream",
     "text": [
      "         Alice\n",
      "bike     500\n",
      "pants     45\n"
     ]
    }
   ],
   "source": [
    "# Create a DataFrame that has selected items for 'Alice'\n",
    "print(' ', pd.DataFrame(items, index = ['bike', 'pants'], columns=['Alice']))"
   ]
  },
  {
   "cell_type": "code",
   "execution_count": 72,
   "metadata": {},
   "outputs": [
    {
     "name": "stdout",
     "output_type": "stream",
     "text": [
      " items_no_index DataFrame:: \n",
      "    Alice  Bob\n",
      "0     40  245\n",
      "1    110   25\n",
      "2    500   55\n"
     ]
    }
   ],
   "source": [
    "# Create a Pandas DataFrame of Pandas Series with no index instead manual row labled\n",
    "items_no_index = {\n",
    "    'Bob': pd.Series([245, 25, 55]),\n",
    "    'Alice': pd.Series([40, 110, 500])\n",
    "}\n",
    "print(' items_no_index DataFrame:: \\n', pd.DataFrame(items_no_index))"
   ]
  },
  {
   "cell_type": "code",
   "execution_count": 73,
   "metadata": {},
   "outputs": [
    {
     "name": "stdout",
     "output_type": "stream",
     "text": [
      "dict_a DataFrame from python <list> without labeled indices: \n",
      "    Alice  Bob\n",
      "0     40  245\n",
      "1    110   25\n",
      "2    500   55\n"
     ]
    }
   ],
   "source": [
    "# Create Pandas DataFrame from python <list> without labeled indices\n",
    "dict_a = pd.DataFrame(\n",
    "    {\n",
    "        'Bob':[245, 25, 55],\n",
    "        'Alice':[40, 110, 500]\n",
    "    }\n",
    ")\n",
    "print('dict_a DataFrame from python <list> without labeled indices: \\n', dict_a)"
   ]
  },
  {
   "cell_type": "code",
   "execution_count": 74,
   "metadata": {},
   "outputs": [
    {
     "name": "stdout",
     "output_type": "stream",
     "text": [
      "dict_a DataFrame from python <list> without labeled indices: \n",
      "          Alice  Bob\n",
      "label a     40  245\n",
      "label b    110   25\n",
      "label c    500   55\n"
     ]
    }
   ],
   "source": [
    "# Create Pandas DataFrame from python <list> with labeled indices\n",
    "dict_a = pd.DataFrame(\n",
    "    {\n",
    "        'Bob':[245, 25, 55],\n",
    "        'Alice':[40, 110, 500]\n",
    "    },\n",
    "    index = ['label a', 'label b', 'label c']\n",
    ")\n",
    "print('dict_a DataFrame from python <list> without labeled indices: \\n', dict_a)"
   ]
  }
 ],
 "metadata": {
  "kernelspec": {
   "display_name": "Python [conda env:py36]",
   "language": "python",
   "name": "conda-env-py36-py"
  },
  "language_info": {
   "codemirror_mode": {
    "name": "ipython",
    "version": 3
   },
   "file_extension": ".py",
   "mimetype": "text/x-python",
   "name": "python",
   "nbconvert_exporter": "python",
   "pygments_lexer": "ipython3",
   "version": "3.6.5"
  }
 },
 "nbformat": 4,
 "nbformat_minor": 2
}
