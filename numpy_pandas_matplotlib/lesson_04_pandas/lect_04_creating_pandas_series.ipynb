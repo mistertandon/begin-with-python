{
 "cells": [
  {
   "cell_type": "code",
   "execution_count": 17,
   "metadata": {},
   "outputs": [
    {
     "name": "stdout",
     "output_type": "stream",
     "text": [
      " groceries : \n",
      " eggs       30\n",
      "apples      6\n",
      "milk      Yes\n",
      "bread      No\n",
      "dtype: object\n"
     ]
    }
   ],
   "source": [
    "import pandas as pd\n",
    "groceries = pd.Series(data = [30, 6, 'Yes', 'No'], index = ['eggs', 'apples', 'milk', 'bread'])\n",
    "print(' groceries : \\n', groceries)\n"
   ]
  },
  {
   "cell_type": "code",
   "execution_count": 18,
   "metadata": {},
   "outputs": [
    {
     "name": "stdout",
     "output_type": "stream",
     "text": [
      "\n",
      " Groceries has shape :  (4,)\n",
      "\n",
      " Groceries has dimension :  1\n",
      "\n",
      " Groceries has a total of  4  elements.\n"
     ]
    }
   ],
   "source": [
    "print('\\n Groceries has shape : ', groceries.shape)\n",
    "print('\\n Groceries has dimension : ', groceries.ndim)\n",
    "print('\\n Groceries has a total of ', groceries.size, ' elements.')"
   ]
  },
  {
   "cell_type": "code",
   "execution_count": 19,
   "metadata": {},
   "outputs": [
    {
     "name": "stdout",
     "output_type": "stream",
     "text": [
      " Pandas series values :  [30 6 'Yes' 'No']\n",
      " Pandas series indices : Index(['eggs', 'apples', 'milk', 'bread'], dtype='object')\n"
     ]
    }
   ],
   "source": [
    "print(' Pandas series values : ', groceries.values)\n",
    "print(' Pandas series indices :', groceries.index)"
   ]
  },
  {
   "cell_type": "code",
   "execution_count": 20,
   "metadata": {},
   "outputs": [
    {
     "name": "stdout",
     "output_type": "stream",
     "text": [
      " Is isEggIndexExist index exist in groceries :  True\n"
     ]
    }
   ],
   "source": [
    "isEggIndexExist = 'eggs' in groceries\n",
    "print(' Is isEggIndexExist index exist in groceries : ', isEggIndexExist)"
   ]
  }
 ],
 "metadata": {
  "kernelspec": {
   "display_name": "Python [conda env:py36]",
   "language": "python",
   "name": "conda-env-py36-py"
  },
  "language_info": {
   "codemirror_mode": {
    "name": "ipython",
    "version": 3
   },
   "file_extension": ".py",
   "mimetype": "text/x-python",
   "name": "python",
   "nbconvert_exporter": "python",
   "pygments_lexer": "ipython3",
   "version": "3.6.5"
  }
 },
 "nbformat": 4,
 "nbformat_minor": 2
}
