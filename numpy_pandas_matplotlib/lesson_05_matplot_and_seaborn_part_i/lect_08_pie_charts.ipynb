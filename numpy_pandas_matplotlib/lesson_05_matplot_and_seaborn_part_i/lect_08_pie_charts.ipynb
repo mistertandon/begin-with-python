{
 "cells": [
  {
   "cell_type": "code",
   "execution_count": 84,
   "metadata": {},
   "outputs": [],
   "source": [
    "import numpy as np\n",
    "import pandas as pd\n",
    "import seaborn as sb\n",
    "import matplotlib.pyplot as plt\n",
    "\n",
    "%matplotlib inline"
   ]
  },
  {
   "cell_type": "code",
   "execution_count": 85,
   "metadata": {},
   "outputs": [],
   "source": [
    "items = {\n",
    "    'var_a':pd.Series(data = [31, 12, 53, 31], index = ['Item A', 'Item B', 'Item C', 'Item D'])\n",
    "}\n",
    "df = pd.DataFrame(items)\n",
    "# Note :: Uncomment below line to observe output\n",
    "# df"
   ]
  },
  {
   "cell_type": "code",
   "execution_count": 86,
   "metadata": {},
   "outputs": [],
   "source": [
    "sorted_counts = df['var_a'].value_counts()\n",
    "# Uncomment below statements to observe output\n",
    "#print(' sorted_counts: \\n', sorted_counts)\n",
    "#print('\\n sorted_counts.index: \\n', sorted_counts.index)"
   ]
  },
  {
   "cell_type": "code",
   "execution_count": 87,
   "metadata": {},
   "outputs": [
    {
     "data": {
      "text/plain": [
       "(-1.1, 1.1, -1.1, 1.1)"
      ]
     },
     "execution_count": 87,
     "metadata": {},
     "output_type": "execute_result"
    },
    {
     "data": {
      "image/png": "[encoded data removed]",
      "text/plain": [
       "<Figure size 432x288 with 1 Axes>"
      ]
     },
     "metadata": {},
     "output_type": "display_data"
    }
   ],
   "source": [
    "plt.pie(sorted_counts, labels = sorted_counts.index, startangle = 90, counterclock = False )\n",
    "plt.axis('square')"
   ]
  },
  {
   "cell_type": "code",
   "execution_count": 88,
   "metadata": {},
   "outputs": [
    {
     "data": {
      "text/plain": [
       "([<matplotlib.patches.Wedge at 0x14aa4ac8>,\n",
       "  <matplotlib.patches.Wedge at 0x14aab048>,\n",
       "  <matplotlib.patches.Wedge at 0x14aab5f8>],\n",
       " [Text(1.1,0,'31'),\n",
       "  Text(-0.777817,-0.777817,'53'),\n",
       "  Text(-0.777817,0.777817,'12')])"
      ]
     },
     "execution_count": 88,
     "metadata": {},
     "output_type": "execute_result"
    },
    {
     "data": {
      "image/png": "[encoded data removed]",
      "text/plain": [
       "<Figure size 432x288 with 1 Axes>"
      ]
     },
     "metadata": {},
     "output_type": "display_data"
    }
   ],
   "source": [
    "# Plot donut plot for above Pandas DataFrame\n",
    "plt.pie(sorted_counts, labels = sorted_counts.index, startangle = 90, counterclock = False, wedgeprops = {'width':0.5})"
   ]
  }
 ],
 "metadata": {
  "kernelspec": {
   "display_name": "Python [conda env:py36]",
   "language": "python",
   "name": "conda-env-py36-py"
  },
  "language_info": {
   "codemirror_mode": {
    "name": "ipython",
    "version": 3
   },
   "file_extension": ".py",
   "mimetype": "text/x-python",
   "name": "python",
   "nbconvert_exporter": "python",
   "pygments_lexer": "ipython3",
   "version": "3.6.5"
  }
 },
 "nbformat": 4,
 "nbformat_minor": 2
}
