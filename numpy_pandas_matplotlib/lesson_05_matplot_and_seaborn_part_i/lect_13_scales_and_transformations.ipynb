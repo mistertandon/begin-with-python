{
 "cells": [
  {
   "cell_type": "code",
   "execution_count": 50,
   "metadata": {},
   "outputs": [],
   "source": [
    "import numpy as np\n",
    "import pandas as pd\n",
    "import seaborn as sb\n",
    "import matplotlib.pyplot as plt\n",
    "\n",
    "%matplotlib inline"
   ]
  },
  {
   "cell_type": "code",
   "execution_count": 51,
   "metadata": {},
   "outputs": [
    {
     "data": {
      "image/png": "[encoded data removed]",
      "text/plain": [
       "<Figure size 432x288 with 1 Axes>"
      ]
     },
     "metadata": {},
     "output_type": "display_data"
    }
   ],
   "source": [
    "pokemon_df = pd.read_csv('./pokemon.csv')\n",
    "# Note :: Uncomment below statement to observe output\n",
    "#pokemon_df.head(2)\n",
    "bins = np.arange(0, pokemon_df['weight'].max() + 40, 40)\n",
    "plt.hist(data = pokemon_df, x = 'weight', bins = bins)\n",
    "plt.xscale('log')"
   ]
  },
  {
   "cell_type": "code",
   "execution_count": 52,
   "metadata": {},
   "outputs": [
    {
     "data": {
      "text/plain": [
       "count    2.906874\n",
       "mean     1.790786\n",
       "std      2.047350\n",
       "min     -1.000000\n",
       "25%      0.954243\n",
       "50%      1.431364\n",
       "75%      1.799341\n",
       "max      2.999957\n",
       "Name: weight, dtype: float64"
      ]
     },
     "execution_count": 52,
     "metadata": {},
     "output_type": "execute_result"
    }
   ],
   "source": [
    "np.log10(pokemon_df['weight'].describe())"
   ]
  },
  {
   "cell_type": "code",
   "execution_count": 53,
   "metadata": {},
   "outputs": [
    {
     "data": {
      "text/plain": [
       "([<matplotlib.axis.XTick at 0xaee0c18>,\n",
       "  <matplotlib.axis.XTick at 0xaee00f0>,\n",
       "  <matplotlib.axis.XTick at 0xaee0198>,\n",
       "  <matplotlib.axis.XTick at 0xb1ff0f0>,\n",
       "  <matplotlib.axis.XTick at 0xb1ff550>,\n",
       "  <matplotlib.axis.XTick at 0xb1ffa20>,\n",
       "  <matplotlib.axis.XTick at 0xb1fff28>,\n",
       "  <matplotlib.axis.XTick at 0xb21d470>,\n",
       "  <matplotlib.axis.XTick at 0xb21d978>],\n",
       " <a list of 9 Text xticklabel objects>)"
      ]
     },
     "execution_count": 53,
     "metadata": {},
     "output_type": "execute_result"
    },
    {
     "data": {
      "image/png": "[encoded data removed]",
      "text/plain": [
       "<Figure size 432x288 with 1 Axes>"
      ]
     },
     "metadata": {},
     "output_type": "display_data"
    }
   ],
   "source": [
    "# Logarthmic bin\n",
    "bins_a = 10 ** np.arange(-1, 3 + 0.1, 0.1)\n",
    "ticks = [0.1, 0.3, 1, 3, 10, 30, 100, 300, 1000]\n",
    "labels = ['{}'.format(label) for label in ticks]\n",
    "\n",
    "plt.hist(data = pokemon_df, x = 'weight', bins = bins_a)\n",
    "plt.xscale('log')\n",
    "plt.xticks(ticks, labels)"
   ]
  }
 ],
 "metadata": {
  "kernelspec": {
   "display_name": "Python [conda env:py36]",
   "language": "python",
   "name": "conda-env-py36-py"
  },
  "language_info": {
   "codemirror_mode": {
    "name": "ipython",
    "version": 3
   },
   "file_extension": ".py",
   "mimetype": "text/x-python",
   "name": "python",
   "nbconvert_exporter": "python",
   "pygments_lexer": "ipython3",
   "version": "3.6.5"
  }
 },
 "nbformat": 4,
 "nbformat_minor": 2
}
