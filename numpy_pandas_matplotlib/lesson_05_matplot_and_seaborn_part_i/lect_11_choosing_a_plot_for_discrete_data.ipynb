{
 "cells": [
  {
   "cell_type": "code",
   "execution_count": 64,
   "metadata": {},
   "outputs": [],
   "source": [
    "import numpy as np\n",
    "import pandas as pd\n",
    "import seaborn as sb\n",
    "import matplotlib.pyplot as plt\n",
    "\n",
    "%matplotlib inline"
   ]
  },
  {
   "cell_type": "code",
   "execution_count": 65,
   "metadata": {},
   "outputs": [
    {
     "data": {
      "text/plain": [
       "<Figure size 720x360 with 0 Axes>"
      ]
     },
     "execution_count": 65,
     "metadata": {},
     "output_type": "execute_result"
    },
    {
     "data": {
      "text/plain": [
       "<Figure size 720x360 with 0 Axes>"
      ]
     },
     "metadata": {},
     "output_type": "display_data"
    }
   ],
   "source": [
    "plt.figure(figsize = [10, 5])"
   ]
  },
  {
   "cell_type": "code",
   "execution_count": 66,
   "metadata": {},
   "outputs": [],
   "source": [
    "# List consist of numbers, obtained from die rolls 100 times\n",
    "die_rolls = np.random.randint(1, 13, 100)\n",
    "# Note:: Uncomment below statement to observe output\n",
    "#die_rolls"
   ]
  },
  {
   "cell_type": "code",
   "execution_count": 67,
   "metadata": {},
   "outputs": [
    {
     "data": {
      "text/plain": [
       "([<matplotlib.axis.XTick at 0xbfc1588>,\n",
       "  <matplotlib.axis.XTick at 0xbfbde80>,\n",
       "  <matplotlib.axis.XTick at 0xbfbdbe0>,\n",
       "  <matplotlib.axis.XTick at 0xbff2e48>,\n",
       "  <matplotlib.axis.XTick at 0xbffd320>,\n",
       "  <matplotlib.axis.XTick at 0xbffd828>,\n",
       "  <matplotlib.axis.XTick at 0xbffdc50>,\n",
       "  <matplotlib.axis.XTick at 0xc006198>,\n",
       "  <matplotlib.axis.XTick at 0xc0066a0>,\n",
       "  <matplotlib.axis.XTick at 0xc006ba8>,\n",
       "  <matplotlib.axis.XTick at 0xc00d160>,\n",
       "  <matplotlib.axis.XTick at 0xc00d5f8>],\n",
       " <a list of 12 Text xticklabel objects>)"
      ]
     },
     "execution_count": 67,
     "metadata": {},
     "output_type": "execute_result"
    },
    {
     "data": {
      "image/png": "[encoded data removed]",
      "text/plain": [
       "<Figure size 432x288 with 1 Axes>"
      ]
     },
     "metadata": {},
     "output_type": "display_data"
    }
   ],
   "source": [
    "plt.subplot(1, 2, 1)\n",
    "bin_edges = np.arange(2, 12 + 1.1, 1)\n",
    "plt.hist(die_rolls, bins = bin_edges)\n",
    "plt.xticks(np.arange(1, 13, 1))"
   ]
  },
  {
   "cell_type": "code",
   "execution_count": 68,
   "metadata": {},
   "outputs": [
    {
     "data": {
      "text/plain": [
       "([<matplotlib.axis.XTick at 0xc03ff60>,\n",
       "  <matplotlib.axis.XTick at 0xc03f8d0>,\n",
       "  <matplotlib.axis.XTick at 0xc03f630>,\n",
       "  <matplotlib.axis.XTick at 0xc074780>,\n",
       "  <matplotlib.axis.XTick at 0xc074c18>,\n",
       "  <matplotlib.axis.XTick at 0xc074e80>,\n",
       "  <matplotlib.axis.XTick at 0xc07c4a8>,\n",
       "  <matplotlib.axis.XTick at 0xc07c9b0>,\n",
       "  <matplotlib.axis.XTick at 0xc07ce48>,\n",
       "  <matplotlib.axis.XTick at 0xc084390>,\n",
       "  <matplotlib.axis.XTick at 0xc084898>,\n",
       "  <matplotlib.axis.XTick at 0xc084da0>],\n",
       " <a list of 12 Text xticklabel objects>)"
      ]
     },
     "execution_count": 68,
     "metadata": {},
     "output_type": "execute_result"
    },
    {
     "data": {
      "image/png": "[encoded data removed]",
      "text/plain": [
       "<Figure size 432x288 with 1 Axes>"
      ]
     },
     "metadata": {},
     "output_type": "display_data"
    }
   ],
   "source": [
    "plt.subplot(1, 2, 2)\n",
    "bin_edges = np.arange(1.5, 12.5 + 1, 1)\n",
    "# We may provide additional argument <rwidth = 0.7>\n",
    "# that helps to separate the bins\n",
    "plt.hist(die_rolls, bins = bin_edges)\n",
    "plt.xticks(np.arange(1, 13, 1))"
   ]
  }
 ],
 "metadata": {
  "kernelspec": {
   "display_name": "Python [conda env:py36]",
   "language": "python",
   "name": "conda-env-py36-py"
  },
  "language_info": {
   "codemirror_mode": {
    "name": "ipython",
    "version": 3
   },
   "file_extension": ".py",
   "mimetype": "text/x-python",
   "name": "python",
   "nbconvert_exporter": "python",
   "pygments_lexer": "ipython3",
   "version": "3.6.5"
  }
 },
 "nbformat": 4,
 "nbformat_minor": 2
}
