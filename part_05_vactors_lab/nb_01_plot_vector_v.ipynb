{
 "cells": [
  {
   "cell_type": "code",
   "execution_count": 22,
   "metadata": {},
   "outputs": [
    {
     "data": {
      "image/png": "[encoded data removed]",
      "text/plain": [
       "<Figure size 432x288 with 1 Axes>"
      ]
     },
     "metadata": {},
     "output_type": "display_data"
    }
   ],
   "source": [
    "%matplotlib inline\n",
    "import numpy as np\n",
    "import matplotlib.pyplot as plt\n",
    "\n",
    "\n",
    "v = np.array([1, 1])\n",
    "\n",
    "#Creates axes for plot referenced ax\n",
    "ax = plt.axes()\n",
    "\n",
    "#plots red dot at origin\n",
    "ax.plot(0, 0,'or')\n",
    "\n",
    "#plots vector v as Blue arrow, starting at origin 0,0\n",
    "ax.arrow(0, 0, *v, color='b', linewidth=2, head_width=0.25, head_length=0.20)\n",
    "\n",
    "#set limit for plot for x-axis\n",
    "plt.xlim(-2, 2)\n",
    "\n",
    "#set major ticks for x-axis\n",
    "major_ticks = np.arange(-2, 3)\n",
    "ax.set_xticks(major_ticks)\n",
    "\n",
    "#set limit for plot for y-axis\n",
    "plt.ylim(-1, 3)\n",
    "\n",
    "#set major ticks for y-axis\n",
    "major_ticks = np.arange(-1, 3)\n",
    "ax.set_yticks(major_ticks)\n",
    "\n",
    "plt.grid(b=True, which='major')\n",
    "plt.show()\n",
    "\n"
   ]
  }
 ],
 "metadata": {
  "kernelspec": {
   "display_name": "Python [conda env:py36]",
   "language": "python",
   "name": "conda-env-py36-py"
  },
  "language_info": {
   "codemirror_mode": {
    "name": "ipython",
    "version": 3
   },
   "file_extension": ".py",
   "mimetype": "text/x-python",
   "name": "python",
   "nbconvert_exporter": "python",
   "pygments_lexer": "ipython3",
   "version": "3.6.5"
  }
 },
 "nbformat": 4,
 "nbformat_minor": 2
}
