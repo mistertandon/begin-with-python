{
 "cells": [
  {
   "cell_type": "code",
   "execution_count": 8,
   "metadata": {},
   "outputs": [
    {
     "data": {
      "image/png": "[encoded data removed]",
      "text/plain": [
       "<Figure size 432x288 with 1 Axes>"
      ]
     },
     "metadata": {},
     "output_type": "display_data"
    }
   ],
   "source": [
    "%matplotlib inline\n",
    "import numpy as np\n",
    "import matplotlib.pyplot as plt\n",
    "\n",
    "# Define vector v\n",
    "v = np.array([1, 1])\n",
    "\n",
    "# Define vector w\n",
    "w = np.array([-2, 2])\n",
    "\n",
    "# Plot that graphically shows Vector w added to Vector v\n",
    "# using matplotlib\n",
    "\n",
    "# Creates axes of plot referenced ax\n",
    "ax = plt.axes()\n",
    "\n",
    "# Plot red dot at origin\n",
    "ax.plot(0, 0, 'or')\n",
    "\n",
    "# Plot vector v as blue line starting at origin\n",
    "ax.arrow(0, 0, *v, color='b', linewidth=2.5, head_width=0.3, head_length=0.35)\n",
    "\n",
    "# Plot vector w as Cynan color with origin defined by Vector w\n",
    "ax.arrow(v[0], v[1], *w, color='c', linestyle='dotted', linewidth=2, head_width=0.2, head_length=0.25)\n",
    "\n",
    "# Set limit for plot for x-axis\n",
    "plt.xlim(-2, 2)\n",
    "\n",
    "# Set major ticks for x-axis\n",
    "major_xticks = np.arange(-2, 2)\n",
    "ax.set_xticks(major_xticks)\n",
    "\n",
    "# Set limit for y-axis\n",
    "plt.ylim(-1, 4)\n",
    "\n",
    "# Set major ticks for y-axis\n",
    "major_yticks = np.arange(-1, 4)\n",
    "ax.set_yticks(major_yticks)\n",
    "\n",
    "# Create gridlines for only major tick marks\n",
    "plt.grid(b=True, which='major')\n",
    "# Display final plot\n",
    "plt.show()"
   ]
  },
  {
   "cell_type": "code",
   "execution_count": null,
   "metadata": {},
   "outputs": [],
   "source": []
  }
 ],
 "metadata": {
  "kernelspec": {
   "display_name": "Python [conda env:py36]",
   "language": "python",
   "name": "conda-env-py36-py"
  },
  "language_info": {
   "codemirror_mode": {
    "name": "ipython",
    "version": 3
   },
   "file_extension": ".py",
   "mimetype": "text/x-python",
   "name": "python",
   "nbconvert_exporter": "python",
   "pygments_lexer": "ipython3",
   "version": "3.6.5"
  }
 },
 "nbformat": 4,
 "nbformat_minor": 2
}
