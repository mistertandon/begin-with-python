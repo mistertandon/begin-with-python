{
 "cells": [
  {
   "cell_type": "code",
   "execution_count": null,
   "metadata": {},
   "outputs": [],
   "source": []
  },
  {
   "cell_type": "code",
   "execution_count": 44,
   "metadata": {},
   "outputs": [
    {
     "name": "stdout",
     "output_type": "stream",
     "text": [
      " groceries: \n",
      " eggs       30\n",
      "apples      6\n",
      "milk      Yes\n",
      "bread      No\n",
      "dtype: object\n"
     ]
    }
   ],
   "source": [
    "import pandas as pd\n",
    "groceries = pd.Series(data = [30, 6, 'Yes', 'No'], index = ['eggs', 'apples', 'milk', 'bread'])\n",
    "print(' groceries: \\n', groceries)"
   ]
  },
  {
   "cell_type": "code",
   "execution_count": 45,
   "metadata": {},
   "outputs": [
    {
     "name": "stdout",
     "output_type": "stream",
     "text": [
      " How many eggs do we need to buy:  30\n",
      " How many eggs do we need to buy:  30\n",
      " Do we need bread: No\n"
     ]
    }
   ],
   "source": [
    "print(' How many eggs do we need to buy: ', groceries[0])\n",
    "# Using labeled index\n",
    "print(' How many eggs do we need to buy: ', groceries['eggs'])\n",
    "print(' Do we need bread:', groceries[-1])"
   ]
  },
  {
   "cell_type": "code",
   "execution_count": 46,
   "metadata": {},
   "outputs": [
    {
     "name": "stdout",
     "output_type": "stream",
     "text": [
      " Do we need bread and milk: \n",
      " eggs     30\n",
      "milk    Yes\n",
      "dtype: object\n",
      "\n",
      " Do we need bread and milk: \n",
      " eggs     30\n",
      "bread    No\n",
      "dtype: object\n"
     ]
    }
   ],
   "source": [
    "print(' Do we need bread and milk: \\n', groceries[['eggs', 'milk']])\n",
    "# Using labeled index\n",
    "print('\\n Do we need bread and milk: \\n', groceries[[0, 3]])"
   ]
  },
  {
   "cell_type": "code",
   "execution_count": 47,
   "metadata": {},
   "outputs": [
    {
     "name": "stdout",
     "output_type": "stream",
     "text": [
      " Do we need bread: bread    No\n",
      "dtype: object\n",
      "\n",
      " Do we need bread: bread    No\n",
      "dtype: object\n"
     ]
    }
   ],
   "source": [
    "# Using loc property of Pandas Series\n",
    "print(' Do we need bread:', groceries.loc[['bread']])\n",
    "# Using iloc property of Pandas Series\n",
    "print('\\n Do we need bread:', groceries.iloc[[-1]])"
   ]
  }
 ],
 "metadata": {
  "kernelspec": {
   "display_name": "Python [conda env:py36]",
   "language": "python",
   "name": "conda-env-py36-py"
  },
  "language_info": {
   "codemirror_mode": {
    "name": "ipython",
    "version": 3
   },
   "file_extension": ".py",
   "mimetype": "text/x-python",
   "name": "python",
   "nbconvert_exporter": "python",
   "pygments_lexer": "ipython3",
   "version": "3.6.5"
  }
 },
 "nbformat": 4,
 "nbformat_minor": 2
}
