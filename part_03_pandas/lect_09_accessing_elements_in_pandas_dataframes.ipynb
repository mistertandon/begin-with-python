{
 "cells": [
  {
   "cell_type": "code",
   "execution_count": 39,
   "metadata": {},
   "outputs": [
    {
     "name": "stdout",
     "output_type": "stream",
     "text": [
      " Original DataFrame: \n",
      "          bikes  glasses  pants  watches\n",
      "store 1     20      NaN     30       35\n",
      "store 2     15     50.0      5       10\n"
     ]
    }
   ],
   "source": [
    "import pandas as pd\n",
    "items = [{'bikes': 20, 'pants': 30, 'watches': 35}, \n",
    "          {'watches': 10, 'glasses': 50, 'bikes': 15, 'pants':5}]\n",
    "df = pd.DataFrame(items, index = ['store 1', 'store 2'])\n",
    "print(' Original DataFrame: \\n', df)"
   ]
  },
  {
   "cell_type": "code",
   "execution_count": 40,
   "metadata": {},
   "outputs": [
    {
     "name": "stdout",
     "output_type": "stream",
     "text": [
      " How many bikes are in each stores: \n",
      "          bikes\n",
      "store 1     20\n",
      "store 2     15\n"
     ]
    }
   ],
   "source": [
    "# How many bikes are in each stores\n",
    "print(' How many bikes are in each stores: \\n', df[['bikes']])"
   ]
  },
  {
   "cell_type": "code",
   "execution_count": 41,
   "metadata": {},
   "outputs": [
    {
     "name": "stdout",
     "output_type": "stream",
     "text": [
      " How many bikes and pants each store has: \n",
      "          bikes  pants\n",
      "store 1     20     30\n",
      "store 2     15      5\n"
     ]
    }
   ],
   "source": [
    "# How many bikes and pants each store has\n",
    "print(' How many bikes and pants each store has: \\n', df[['bikes', 'pants']])"
   ]
  },
  {
   "cell_type": "code",
   "execution_count": 42,
   "metadata": {},
   "outputs": [
    {
     "name": "stdout",
     "output_type": "stream",
     "text": [
      " Items in Store 1: \n",
      "          bikes  glasses  pants  watches\n",
      "store 1     20      NaN     30       35\n"
     ]
    }
   ],
   "source": [
    "# What items are in Store 1\n",
    "print(' Items in Store 1: \\n', df.loc[['store 1']])"
   ]
  },
  {
   "cell_type": "code",
   "execution_count": 43,
   "metadata": {},
   "outputs": [
    {
     "name": "stdout",
     "output_type": "stream",
     "text": [
      "How many bikes are in Store 1: \n",
      " 20\n"
     ]
    }
   ],
   "source": [
    "# How many bikes are in Store 1\n",
    "print('How many bikes are in Store 1: \\n', df['bikes']['store 1'])"
   ]
  },
  {
   "cell_type": "code",
   "execution_count": 44,
   "metadata": {},
   "outputs": [
    {
     "name": "stdout",
     "output_type": "stream",
     "text": [
      " DataFrame after adding shirst to the items each store has: \n",
      "          bikes  glasses  pants  watches  shirts\n",
      "store 1     20      NaN     30       35      11\n",
      "store 2     15     50.0      5       10      21\n"
     ]
    }
   ],
   "source": [
    "# Let's add shirts to the items we have in each store\n",
    "df['shirts'] = [11, 21]\n",
    "print(' DataFrame after adding shirst to the items each store has: \\n', df)"
   ]
  }
 ],
 "metadata": {
  "kernelspec": {
   "display_name": "Python [conda env:py36]",
   "language": "python",
   "name": "conda-env-py36-py"
  },
  "language_info": {
   "codemirror_mode": {
    "name": "ipython",
    "version": 3
   },
   "file_extension": ".py",
   "mimetype": "text/x-python",
   "name": "python",
   "nbconvert_exporter": "python",
   "pygments_lexer": "ipython3",
   "version": "3.6.5"
  }
 },
 "nbformat": 4,
 "nbformat_minor": 2
}
