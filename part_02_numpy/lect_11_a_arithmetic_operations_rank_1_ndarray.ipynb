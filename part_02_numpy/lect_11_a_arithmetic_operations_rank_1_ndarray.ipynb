{
 "cells": [
  {
   "cell_type": "markdown",
   "metadata": {},
   "source": [
    "### Arithmetic operations and Broadcasting"
   ]
  },
  {
   "cell_type": "code",
   "execution_count": 177,
   "metadata": {},
   "outputs": [],
   "source": [
    "import numpy as np"
   ]
  },
  {
   "cell_type": "markdown",
   "metadata": {},
   "source": [
    "#### Aithmatic operation on Rank-1 array"
   ]
  },
  {
   "cell_type": "code",
   "execution_count": 178,
   "metadata": {},
   "outputs": [],
   "source": [
    "ndarray_a = np.array([1, 2, 3, 4])\n",
    "ndarray_b = np.array([4, 6, 7, 8])"
   ]
  },
  {
   "cell_type": "markdown",
   "metadata": {},
   "source": [
    "#### Rank-1 ndarray Addition"
   ]
  },
  {
   "cell_type": "code",
   "execution_count": 179,
   "metadata": {},
   "outputs": [
    {
     "name": "stdout",
     "output_type": "stream",
     "text": [
      " ndarray_addition: \n",
      " [ 5  8 10 12]\n"
     ]
    }
   ],
   "source": [
    "ndarray_addition = np.add(ndarray_a, ndarray_b)\n",
    "print(' ndarray_addition: \\n', ndarray_addition)"
   ]
  },
  {
   "cell_type": "markdown",
   "metadata": {},
   "source": [
    "#### Rank-1 ndarray Subtraction"
   ]
  },
  {
   "cell_type": "code",
   "execution_count": 180,
   "metadata": {},
   "outputs": [
    {
     "name": "stdout",
     "output_type": "stream",
     "text": [
      " ndarray_subtraction: \n",
      " [-3 -4 -4 -4]\n"
     ]
    }
   ],
   "source": [
    "ndarray_subtraction = np.subtract(ndarray_a, ndarray_b)\n",
    "print(' ndarray_subtraction: \\n', ndarray_subtraction)"
   ]
  },
  {
   "cell_type": "markdown",
   "metadata": {},
   "source": [
    "#### Rank-1 ndarray Division"
   ]
  },
  {
   "cell_type": "code",
   "execution_count": 181,
   "metadata": {},
   "outputs": [
    {
     "name": "stdout",
     "output_type": "stream",
     "text": [
      " ndarray_division: \n",
      " [0.25       0.33333333 0.42857143 0.5       ]\n"
     ]
    }
   ],
   "source": [
    "ndarray_division = np.divide(ndarray_a, ndarray_b)\n",
    "print(' ndarray_division: \\n', ndarray_division)"
   ]
  },
  {
   "cell_type": "markdown",
   "metadata": {},
   "source": [
    "#### Rank-1 ndarray Multiplication"
   ]
  },
  {
   "cell_type": "code",
   "execution_count": 182,
   "metadata": {
    "scrolled": true
   },
   "outputs": [
    {
     "name": "stdout",
     "output_type": "stream",
     "text": [
      " ndarray_multiplication: \n",
      " [ 4 12 21 32]\n"
     ]
    }
   ],
   "source": [
    "ndarray_multiplication = np.multiply(ndarray_a, ndarray_b)\n",
    "print(' ndarray_multiplication: \\n', ndarray_multiplication)"
   ]
  },
  {
   "cell_type": "markdown",
   "metadata": {},
   "source": [
    "### Airthmatic operation on Rank-2 array"
   ]
  },
  {
   "cell_type": "code",
   "execution_count": 183,
   "metadata": {},
   "outputs": [
    {
     "name": "stdout",
     "output_type": "stream",
     "text": [
      " ndarray_r2_a:\n",
      " [[0 1]\n",
      " [2 3]\n",
      " [4 5]]\n",
      "\n",
      " ndarray_r2_b:\n",
      " [[ 5  6]\n",
      " [ 7  8]\n",
      " [ 9 10]]\n"
     ]
    }
   ],
   "source": [
    "# We'll define two Rank-2 array to implement Rank-2 ndarray airthmatic operations\n",
    "ndarray_r2_a = np.arange(6).reshape(3, 2)\n",
    "ndarray_r2_b = np.arange(5, 11).reshape(3, 2)\n",
    "\n",
    "print(' ndarray_r2_a:\\n', ndarray_r2_a)\n",
    "print('\\n ndarray_r2_b:\\n', ndarray_r2_b)"
   ]
  },
  {
   "cell_type": "markdown",
   "metadata": {},
   "source": [
    "#### Rank-2 ndarray Addition"
   ]
  },
  {
   "cell_type": "code",
   "execution_count": 184,
   "metadata": {},
   "outputs": [
    {
     "name": "stdout",
     "output_type": "stream",
     "text": [
      " ndarray_r2_addition: \n",
      " [[ 5  7]\n",
      " [ 9 11]\n",
      " [13 15]]\n"
     ]
    }
   ],
   "source": [
    "ndarray_r2_addition = np.add(ndarray_r2_a, ndarray_r2_b)\n",
    "print(' ndarray_r2_addition: \\n', ndarray_r2_addition)"
   ]
  },
  {
   "cell_type": "markdown",
   "metadata": {},
   "source": [
    "#### Rank-2 ndarray Subtraction"
   ]
  },
  {
   "cell_type": "code",
   "execution_count": 185,
   "metadata": {},
   "outputs": [
    {
     "name": "stdout",
     "output_type": "stream",
     "text": [
      " ndarray_r2_subtration: \n",
      " [[-5 -5]\n",
      " [-5 -5]\n",
      " [-5 -5]]\n"
     ]
    }
   ],
   "source": [
    "ndarray_r2_subtration = np.subtract(ndarray_r2_a, ndarray_r2_b)\n",
    "print(' ndarray_r2_subtration: \\n', ndarray_r2_subtration)"
   ]
  },
  {
   "cell_type": "markdown",
   "metadata": {},
   "source": [
    "#### Rank-2 ndarray Division"
   ]
  },
  {
   "cell_type": "code",
   "execution_count": 186,
   "metadata": {},
   "outputs": [
    {
     "name": "stdout",
     "output_type": "stream",
     "text": [
      " ndarray_r2_divide: \n",
      " [[0.         0.16666667]\n",
      " [0.28571429 0.375     ]\n",
      " [0.44444444 0.5       ]]\n"
     ]
    }
   ],
   "source": [
    "ndarray_r2_divide = np.divide(ndarray_r2_a, ndarray_r2_b)\n",
    "print(' ndarray_r2_divide: \\n', ndarray_r2_divide)"
   ]
  },
  {
   "cell_type": "markdown",
   "metadata": {},
   "source": [
    "#### Rank-2 ndarray Multiplication"
   ]
  },
  {
   "cell_type": "code",
   "execution_count": 187,
   "metadata": {},
   "outputs": [
    {
     "name": "stdout",
     "output_type": "stream",
     "text": [
      " ndarray_r2_multiply: \n",
      " [[ 0  6]\n",
      " [14 24]\n",
      " [36 50]]\n"
     ]
    }
   ],
   "source": [
    "ndarray_r2_multiply = np.multiply(ndarray_r2_a, ndarray_r2_b)\n",
    "print(' ndarray_r2_multiply: \\n', ndarray_r2_multiply)"
   ]
  },
  {
   "cell_type": "markdown",
   "metadata": {},
   "source": [
    "#### ndarray exponentioal airthmatic operation"
   ]
  },
  {
   "cell_type": "code",
   "execution_count": 188,
   "metadata": {},
   "outputs": [
    {
     "name": "stdout",
     "output_type": "stream",
     "text": [
      " ndarray_expo_res: \n",
      " [ 4 16 36 64]\n"
     ]
    }
   ],
   "source": [
    "ndarray_expo = np.array([2, 4, 6, 8])\n",
    "ndarray_expo_res = np.power(ndarray_expo, 2)\n",
    "\n",
    "print(' ndarray_expo_res: \\n', ndarray_expo_res)"
   ]
  },
  {
   "cell_type": "markdown",
   "metadata": {},
   "source": [
    "#### ndarray sqrt airthmatic operation"
   ]
  },
  {
   "cell_type": "code",
   "execution_count": 189,
   "metadata": {},
   "outputs": [
    {
     "name": "stdout",
     "output_type": "stream",
     "text": [
      " ndarray_sqrt_res: \n",
      " [1.41421356 2.         2.44948974 2.82842712]\n"
     ]
    }
   ],
   "source": [
    "ndarray_sqrt = np.array([2, 4, 6, 8])\n",
    "ndarray_sqrt_res = np.sqrt(ndarray_sqrt)\n",
    "\n",
    "print(' ndarray_sqrt_res: \\n', ndarray_sqrt_res)"
   ]
  },
  {
   "cell_type": "markdown",
   "metadata": {},
   "source": [
    "#### ndarray exponential airthmatic operation"
   ]
  },
  {
   "cell_type": "code",
   "execution_count": 190,
   "metadata": {},
   "outputs": [
    {
     "name": "stdout",
     "output_type": "stream",
     "text": [
      " ndarray_exp_res: \n",
      " [   7.3890561    54.59815003  403.42879349 2980.95798704]\n"
     ]
    }
   ],
   "source": [
    "ndarray_exp = np.array([2, 4, 6, 8])\n",
    "ndarray_exp_res = np.exp(ndarray_exp)\n",
    "\n",
    "print(' ndarray_exp_res: \\n', ndarray_exp_res)"
   ]
  }
 ],
 "metadata": {
  "kernelspec": {
   "display_name": "Python [conda env:py36]",
   "language": "python",
   "name": "conda-env-py36-py"
  },
  "language_info": {
   "codemirror_mode": {
    "name": "ipython",
    "version": 3
   },
   "file_extension": ".py",
   "mimetype": "text/x-python",
   "name": "python",
   "nbconvert_exporter": "python",
   "pygments_lexer": "ipython3",
   "version": "3.6.5"
  }
 },
 "nbformat": 4,
 "nbformat_minor": 2
}
