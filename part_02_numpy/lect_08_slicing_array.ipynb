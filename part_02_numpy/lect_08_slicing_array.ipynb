{
 "cells": [
  {
   "cell_type": "markdown",
   "metadata": {},
   "source": [
    "### Slicing Rank-2 ndarrays"
   ]
  },
  {
   "cell_type": "code",
   "execution_count": 63,
   "metadata": {},
   "outputs": [
    {
     "name": "stdout",
     "output_type": "stream",
     "text": [
      "ref_array: \n",
      " [[ 0  1  2  3  4]\n",
      " [ 5  6  7  8  9]\n",
      " [10 11 12 13 14]\n",
      " [15 16 17 18 19]]\n"
     ]
    }
   ],
   "source": [
    "## Import python NumPy library\n",
    "import numpy as np\n",
    "ref_array = np.arange(20).reshape(4, 5)\n",
    "print('ref_array: \\n', ref_array)"
   ]
  },
  {
   "cell_type": "markdown",
   "metadata": {},
   "source": [
    "#### Demo of ndarray[start:end] for Rank-2 ndarray"
   ]
  },
  {
   "cell_type": "code",
   "execution_count": 64,
   "metadata": {},
   "outputs": [
    {
     "name": "stdout",
     "output_type": "stream",
     "text": [
      " sliced_array_i: \n",
      " [[6 7]]\n"
     ]
    }
   ],
   "source": [
    "sliced_array_i = ref_array[1:2, 1:3]\n",
    "print(' sliced_array_i: \\n', sliced_array_i)"
   ]
  },
  {
   "cell_type": "markdown",
   "metadata": {},
   "source": [
    "#### Demo of ndarray[:end] for Rank-2 ndarray"
   ]
  },
  {
   "cell_type": "code",
   "execution_count": 65,
   "metadata": {},
   "outputs": [
    {
     "name": "stdout",
     "output_type": "stream",
     "text": [
      " sliced_array_ii: \n",
      " [[0 1 2]\n",
      " [5 6 7]]\n"
     ]
    }
   ],
   "source": [
    "sliced_array_ii = ref_array[:2, :3]\n",
    "print(' sliced_array_ii: \\n', sliced_array_ii)"
   ]
  },
  {
   "cell_type": "markdown",
   "metadata": {},
   "source": [
    "#### Demo of ndarray[start:] for Rank-2 ndarray"
   ]
  },
  {
   "cell_type": "code",
   "execution_count": 66,
   "metadata": {},
   "outputs": [
    {
     "name": "stdout",
     "output_type": "stream",
     "text": [
      " sliced_array_iii: \n",
      " [[12 13 14]\n",
      " [17 18 19]]\n"
     ]
    }
   ],
   "source": [
    "sliced_array_iii = ref_array[2:, 2:]\n",
    "print(' sliced_array_iii: \\n', sliced_array_iii)"
   ]
  },
  {
   "cell_type": "code",
   "execution_count": 67,
   "metadata": {},
   "outputs": [
    {
     "name": "stdout",
     "output_type": "stream",
     "text": [
      "ref_array before updating one of it's sliced ndarray (sliced_array_iii): \n",
      " [[ 0  1  2  3  4]\n",
      " [ 5  6  7  8  9]\n",
      " [10 11 12 13 14]\n",
      " [15 16 17 18 19]]\n",
      "\n",
      "ref_array after updating one of it's sliced ndarray (sliced_array_iii): \n",
      " [[  0   1   2   3   4]\n",
      " [  5   6   7   8   9]\n",
      " [ 10  11 112  13  14]\n",
      " [ 15  16  17  18  19]]\n"
     ]
    }
   ],
   "source": [
    "print('ref_array before updating one of it\\'s sliced ndarray (sliced_array_iii): \\n', ref_array)\n",
    "sliced_array_iii[0, 0] = 112\n",
    "print('\\nref_array after updating one of it\\'s sliced ndarray (sliced_array_iii): \\n', ref_array)"
   ]
  },
  {
   "cell_type": "markdown",
   "metadata": {},
   "source": [
    "#### Demo of ndarray[start:end].copy() method for Rank-2 ndarray"
   ]
  },
  {
   "cell_type": "code",
   "execution_count": 68,
   "metadata": {},
   "outputs": [
    {
     "name": "stdout",
     "output_type": "stream",
     "text": [
      " sliced_array_iii_a: \n",
      " [[112  13  14]\n",
      " [ 17  18  19]]\n"
     ]
    }
   ],
   "source": [
    "sliced_array_iii_a = ref_array[2:, 2:].copy()\n",
    "print(' sliced_array_iii_a: \\n', sliced_array_iii)"
   ]
  },
  {
   "cell_type": "code",
   "execution_count": 69,
   "metadata": {},
   "outputs": [
    {
     "name": "stdout",
     "output_type": "stream",
     "text": [
      "ref_array before updating one of it's sliced ndarray (sliced_array_iii_a): \n",
      " [[  0   1   2   3   4]\n",
      " [  5   6   7   8   9]\n",
      " [ 10  11 112  13  14]\n",
      " [ 15  16  17  18  19]]\n",
      "\n",
      "ref_array after updating one of it's sliced ndarray (sliced_array_iii_a): \n",
      " [[  0   1   2   3   4]\n",
      " [  5   6   7   8   9]\n",
      " [ 10  11 112  13  14]\n",
      " [ 15  16  17  18  19]]\n"
     ]
    }
   ],
   "source": [
    "print('ref_array before updating one of it\\'s sliced ndarray (sliced_array_iii_a): \\n', ref_array)\n",
    "sliced_array_iii_a[0, 0] = 113\n",
    "print('\\nref_array after updating one of it\\'s sliced ndarray (sliced_array_iii_a): \\n', ref_array)"
   ]
  },
  {
   "cell_type": "markdown",
   "metadata": {},
   "source": [
    "#### Demo of ndarray[indices, start:end] for Rank-2 ndarray where indices is Rank-1 ndarray"
   ]
  },
  {
   "cell_type": "code",
   "execution_count": 70,
   "metadata": {},
   "outputs": [
    {
     "name": "stdout",
     "output_type": "stream",
     "text": [
      " indices : \n",
      " [0 1]\n",
      "\n",
      " ref_array: \n",
      " [[  0   1   2   3   4]\n",
      " [  5   6   7   8   9]\n",
      " [ 10  11 112  13  14]\n",
      " [ 15  16  17  18  19]]\n",
      "\n",
      " sliced_array_iv: \n",
      " [[0 1 2]\n",
      " [5 6 7]]\n"
     ]
    }
   ],
   "source": [
    "indices = np.arange(2)\n",
    "print(' indices : \\n', indices)\n",
    "\n",
    "sliced_array_iv = ref_array[indices, 0:3]\n",
    "print('\\n ref_array: \\n', ref_array)\n",
    "\n",
    "print('\\n sliced_array_iv: \\n', sliced_array_iv)"
   ]
  }
 ],
 "metadata": {
  "kernelspec": {
   "display_name": "Python [default]",
   "language": "python",
   "name": "python3"
  },
  "language_info": {
   "codemirror_mode": {
    "name": "ipython",
    "version": 3
   },
   "file_extension": ".py",
   "mimetype": "text/x-python",
   "name": "python",
   "nbconvert_exporter": "python",
   "pygments_lexer": "ipython3",
   "version": "3.6.5"
  }
 },
 "nbformat": 4,
 "nbformat_minor": 2
}
