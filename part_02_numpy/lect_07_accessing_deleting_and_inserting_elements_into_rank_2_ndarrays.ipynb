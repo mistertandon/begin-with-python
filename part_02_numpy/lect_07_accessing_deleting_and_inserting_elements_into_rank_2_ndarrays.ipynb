{
 "cells": [
  {
   "cell_type": "markdown",
   "metadata": {},
   "source": [
    "### Accessing, Deleting, and Inserting Elements Into Rank-2 ndarrays"
   ]
  },
  {
   "cell_type": "code",
   "execution_count": 34,
   "metadata": {},
   "outputs": [
    {
     "name": "stdout",
     "output_type": "stream",
     "text": [
      "rank2_array:\n",
      "  [[0 1 2]\n",
      " [3 4 5]\n",
      " [6 7 8]]\n"
     ]
    }
   ],
   "source": [
    "## Import python numpy library\n",
    "import numpy as np\n",
    "\n",
    "## We create Rank-2 array using numpy function\n",
    "rank2_array = np.arange(9).reshape(3,3)\n",
    "print('rank2_array:\\n ', rank2_array)"
   ]
  },
  {
   "cell_type": "markdown",
   "metadata": {},
   "source": [
    "#### Accessing rank2_array elements using positive indices"
   ]
  },
  {
   "cell_type": "code",
   "execution_count": 35,
   "metadata": {},
   "outputs": [
    {
     "name": "stdout",
     "output_type": "stream",
     "text": [
      " Element at (0, 0) position in rank2_array:  0\n",
      " Element at (1, 3) position in rank2_array:  5\n"
     ]
    }
   ],
   "source": [
    "print(' Element at (0, 0) position in rank2_array: ', rank2_array[0, 0])\n",
    "print(' Element at (1, 3) position in rank2_array: ', rank2_array[1, 2])"
   ]
  },
  {
   "cell_type": "markdown",
   "metadata": {},
   "source": [
    "#### Accessing rank2_array elements using negative indices"
   ]
  },
  {
   "cell_type": "code",
   "execution_count": 36,
   "metadata": {},
   "outputs": [
    {
     "name": "stdout",
     "output_type": "stream",
     "text": [
      " Element at (0, 0) position in rank2_array:  0\n",
      " Element at (1, 3) position in rank2_array:  5\n"
     ]
    }
   ],
   "source": [
    "print(' Element at (0, 0) position in rank2_array: ', rank2_array[-3, -3])\n",
    "print(' Element at (1, 3) position in rank2_array: ', rank2_array[-2, -1])"
   ]
  },
  {
   "cell_type": "markdown",
   "metadata": {},
   "source": [
    "#### Update particular element in rank2_array ndarray"
   ]
  },
  {
   "cell_type": "code",
   "execution_count": 37,
   "metadata": {},
   "outputs": [
    {
     "name": "stdout",
     "output_type": "stream",
     "text": [
      " Element at (0, 0) position before update:  0\n",
      " Element at (0, 0) position after update:  11\n"
     ]
    }
   ],
   "source": [
    "print(' Element at (0, 0) position before update: ', rank2_array[-3, 0])\n",
    "rank2_array[-3, 0] = 11\n",
    "print(' Element at (0, 0) position after update: ', rank2_array[-3, 0])"
   ]
  },
  {
   "cell_type": "markdown",
   "metadata": {},
   "source": [
    "#### Delete row in rank2_array ndarray"
   ]
  },
  {
   "cell_type": "code",
   "execution_count": 38,
   "metadata": {},
   "outputs": [
    {
     "name": "stdout",
     "output_type": "stream",
     "text": [
      " rank2_array ndarray, before deleting 2nd and 3rd rows: \n",
      " [[11  1  2]\n",
      " [ 3  4  5]\n",
      " [ 6  7  8]]\n",
      "\n",
      " new ndarray, after deleting 2nd and 3rd rows: \n",
      " [[11  1  2]]\n"
     ]
    }
   ],
   "source": [
    "## Delete 2nd and 3rd row in rank2_array ndarray\n",
    "print(' rank2_array ndarray, before deleting 2nd and 3rd rows: \\n', rank2_array)\n",
    "rank2_array_del_a = np.delete(rank2_array, [1, 2], axis=0)\n",
    "print('\\n new ndarray, after deleting 2nd and 3rd rows: \\n', rank2_array_del_a)"
   ]
  },
  {
   "cell_type": "code",
   "execution_count": 39,
   "metadata": {},
   "outputs": [],
   "source": [
    "#### Delete column in rank2_array ndarray"
   ]
  },
  {
   "cell_type": "code",
   "execution_count": 40,
   "metadata": {},
   "outputs": [
    {
     "name": "stdout",
     "output_type": "stream",
     "text": [
      " rank2_array ndarray, before deleting 1st and 3rd columns: \n",
      " [[11  1  2]\n",
      " [ 3  4  5]\n",
      " [ 6  7  8]]\n",
      "\n",
      " new ndarray, after deleting 1st and 3rd columns: \n",
      " [[1]\n",
      " [4]\n",
      " [7]]\n"
     ]
    }
   ],
   "source": [
    "## Delete 1st and 3rd column in rank2_array ndarray\n",
    "print(' rank2_array ndarray, before deleting 1st and 3rd columns: \\n', rank2_array)\n",
    "rank2_array_del_b = np.delete(rank2_array, [0, 2], axis=1)\n",
    "print('\\n new ndarray, after deleting 1st and 3rd columns: \\n', rank2_array_del_b)"
   ]
  }
 ],
 "metadata": {
  "kernelspec": {
   "display_name": "Python [conda env:py36]",
   "language": "python",
   "name": "conda-env-py36-py"
  },
  "language_info": {
   "codemirror_mode": {
    "name": "ipython",
    "version": 3
   },
   "file_extension": ".py",
   "mimetype": "text/x-python",
   "name": "python",
   "nbconvert_exporter": "python",
   "pygments_lexer": "ipython3",
   "version": "3.6.5"
  }
 },
 "nbformat": 4,
 "nbformat_minor": 2
}
