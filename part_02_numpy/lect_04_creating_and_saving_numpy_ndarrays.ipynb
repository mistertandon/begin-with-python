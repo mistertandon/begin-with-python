{
 "cells": [
  {
   "cell_type": "markdown",
   "metadata": {},
   "source": [
    "## In this notebook, we'll learn how to create array using NumPy"
   ]
  },
  {
   "cell_type": "code",
   "execution_count": 23,
   "metadata": {},
   "outputs": [
    {
     "name": "stdout",
     "output_type": "stream",
     "text": [
      " int_array : [1 2 3 4 5]\n"
     ]
    }
   ],
   "source": [
    "import numpy as np\n",
    "\n",
    "# We create Rank-1 array, that contains only integers\n",
    "int_array = np.array([1, 2, 3, 4, 5])\n",
    "\n",
    "print(' int_array :', int_array)"
   ]
  },
  {
   "cell_type": "code",
   "execution_count": 24,
   "metadata": {},
   "outputs": [
    {
     "name": "stdout",
     "output_type": "stream",
     "text": [
      "\n",
      " int_array has dimension:  (5,)\n",
      " int_array is an object of type:  <class 'numpy.ndarray'>\n",
      " The elements in int_array are of type:  int32\n"
     ]
    }
   ],
   "source": [
    "print('\\n int_array has dimension: ', int_array.shape)\n",
    "print(' int_array is an object of type: ', type(int_array))\n",
    "print(' The elements in int_array are of type: ', int_array.dtype)"
   ]
  },
  {
   "cell_type": "code",
   "execution_count": 25,
   "metadata": {},
   "outputs": [
    {
     "name": "stdout",
     "output_type": "stream",
     "text": [
      " String array:  ['first' 'two']\n"
     ]
    }
   ],
   "source": [
    "# We create Rank-1 array, that contains only strings\n",
    "str_array = np.array(['first', 'two'])\n",
    "\n",
    "print(' String array: ', str_array)"
   ]
  },
  {
   "cell_type": "code",
   "execution_count": 26,
   "metadata": {},
   "outputs": [
    {
     "name": "stdout",
     "output_type": "stream",
     "text": [
      "\n",
      " str_array has dimension:  (2,)\n",
      " str_array is an object of type:  <class 'numpy.ndarray'>\n",
      " str_array elements are of type:  <U5\n"
     ]
    }
   ],
   "source": [
    "\n",
    "print('\\n str_array has dimension: ', str_array.shape)\n",
    "print(' str_array is an object of type: ', type(str_array))\n",
    "print(' str_array elements are of type: ', str_array.dtype)"
   ]
  },
  {
   "cell_type": "code",
   "execution_count": null,
   "metadata": {},
   "outputs": [],
   "source": []
  }
 ],
 "metadata": {
  "kernelspec": {
   "display_name": "Python [conda env:py36]",
   "language": "python",
   "name": "conda-env-py36-py"
  },
  "language_info": {
   "codemirror_mode": {
    "name": "ipython",
    "version": 3
   },
   "file_extension": ".py",
   "mimetype": "text/x-python",
   "name": "python",
   "nbconvert_exporter": "python",
   "pygments_lexer": "ipython3",
   "version": "3.6.5"
  }
 },
 "nbformat": 4,
 "nbformat_minor": 2
}
