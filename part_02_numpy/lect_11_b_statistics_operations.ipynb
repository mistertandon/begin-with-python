{
 "cells": [
  {
   "cell_type": "code",
   "execution_count": 72,
   "metadata": {},
   "outputs": [],
   "source": [
    "import numpy as np"
   ]
  },
  {
   "cell_type": "code",
   "execution_count": 73,
   "metadata": {},
   "outputs": [
    {
     "name": "stdout",
     "output_type": "stream",
     "text": [
      " np.arange(5).reshape(2, 2): \n",
      " [[0 1]\n",
      " [2 3]]\n",
      "\n",
      " np.arange(5, 9).reshape(2, 2) : \n",
      " [[5 6]\n",
      " [7 8]]\n"
     ]
    }
   ],
   "source": [
    "array_a = np.arange(4).reshape(2, 2)\n",
    "array_b = np.arange(5, 9).reshape(2, 2)\n",
    "print( ' np.arange(5).reshape(2, 2): \\n', array_a)\n",
    "print('\\n np.arange(5, 9).reshape(2, 2) : \\n', array_b)"
   ]
  },
  {
   "cell_type": "code",
   "execution_count": 74,
   "metadata": {},
   "outputs": [
    {
     "name": "stdout",
     "output_type": "stream",
     "text": [
      " Average of all elements in array_a :  1.5\n"
     ]
    }
   ],
   "source": [
    "print(' Average of all elements in array_a : ', array_a.mean())"
   ]
  },
  {
   "cell_type": "code",
   "execution_count": 75,
   "metadata": {},
   "outputs": [
    {
     "name": "stdout",
     "output_type": "stream",
     "text": [
      " Average of all elements in columns :  [1. 2.]\n"
     ]
    }
   ],
   "source": [
    "print(' Average of all elements in columns : ', array_a.mean(axis = 0))"
   ]
  },
  {
   "cell_type": "code",
   "execution_count": 76,
   "metadata": {},
   "outputs": [
    {
     "name": "stdout",
     "output_type": "stream",
     "text": [
      " Average of all elements in rows :  [0.5 2.5]\n"
     ]
    }
   ],
   "source": [
    "print(' Average of all elements in rows : ', array_a.mean(axis = 1))"
   ]
  },
  {
   "cell_type": "code",
   "execution_count": 77,
   "metadata": {},
   "outputs": [
    {
     "name": "stdout",
     "output_type": "stream",
     "text": [
      " Sum of all elements in array_a :  6\n"
     ]
    }
   ],
   "source": [
    "print(' Sum of all elements in array_a : ', array_a.sum())"
   ]
  },
  {
   "cell_type": "code",
   "execution_count": 78,
   "metadata": {},
   "outputs": [
    {
     "name": "stdout",
     "output_type": "stream",
     "text": [
      " Sum of all elements exist in Rows in array_a :  [1 5]\n"
     ]
    }
   ],
   "source": [
    "print(' Sum of all elements exist in Rows in array_a : ', array_a.sum(axis = 1))"
   ]
  },
  {
   "cell_type": "code",
   "execution_count": 79,
   "metadata": {},
   "outputs": [
    {
     "name": "stdout",
     "output_type": "stream",
     "text": [
      " Sum of all elements exist in Columns in array_a :  [2 4]\n"
     ]
    }
   ],
   "source": [
    "print(' Sum of all elements exist in Columns in array_a : ', array_a.sum(axis = 0))"
   ]
  },
  {
   "cell_type": "code",
   "execution_count": 80,
   "metadata": {},
   "outputs": [
    {
     "name": "stdout",
     "output_type": "stream",
     "text": [
      " std of all elements in array_a : \n",
      " 1.118033988749895\n"
     ]
    }
   ],
   "source": [
    "print(' std of all elements in array_a : \\n', array_a.std())"
   ]
  },
  {
   "cell_type": "code",
   "execution_count": 81,
   "metadata": {},
   "outputs": [
    {
     "name": "stdout",
     "output_type": "stream",
     "text": [
      " std of all elements in columns of array_a : \n",
      " [1. 1.]\n"
     ]
    }
   ],
   "source": [
    "print(' std of all elements in columns of array_a : \\n', array_a.std(axis = 0))"
   ]
  },
  {
   "cell_type": "code",
   "execution_count": 82,
   "metadata": {},
   "outputs": [
    {
     "name": "stdout",
     "output_type": "stream",
     "text": [
      " std of all elements in rows of array_a : \n",
      " [0.5 0.5]\n"
     ]
    }
   ],
   "source": [
    "print(' std of all elements in rows of array_a : \\n', array_a.std(axis = 1))"
   ]
  },
  {
   "cell_type": "code",
   "execution_count": 83,
   "metadata": {},
   "outputs": [
    {
     "name": "stdout",
     "output_type": "stream",
     "text": [
      " Median of all elements in array_a : \n",
      " 1.5\n"
     ]
    }
   ],
   "source": [
    "print(' Median of all elements in array_a : \\n', np.median(array_a))"
   ]
  },
  {
   "cell_type": "code",
   "execution_count": 84,
   "metadata": {},
   "outputs": [
    {
     "name": "stdout",
     "output_type": "stream",
     "text": [
      " Median of all elements in columns of array_a : \n",
      " [1. 2.]\n"
     ]
    }
   ],
   "source": [
    "print(' Median of all elements in columns of array_a : \\n', np.median(array_a, axis = 0))"
   ]
  },
  {
   "cell_type": "code",
   "execution_count": 85,
   "metadata": {},
   "outputs": [
    {
     "name": "stdout",
     "output_type": "stream",
     "text": [
      " Median of all elements in rows array_a : \n",
      " [0.5 2.5]\n"
     ]
    }
   ],
   "source": [
    "print(' Median of all elements in rows array_a : \\n', np.median(array_a, axis = 1))"
   ]
  }
 ],
 "metadata": {
  "kernelspec": {
   "display_name": "Python [conda env:py36]",
   "language": "python",
   "name": "conda-env-py36-py"
  },
  "language_info": {
   "codemirror_mode": {
    "name": "ipython",
    "version": 3
   },
   "file_extension": ".py",
   "mimetype": "text/x-python",
   "name": "python",
   "nbconvert_exporter": "python",
   "pygments_lexer": "ipython3",
   "version": "3.6.5"
  }
 },
 "nbformat": 4,
 "nbformat_minor": 2
}
