{
 "cells": [
  {
   "cell_type": "markdown",
   "metadata": {},
   "source": [
    "### Accessing, Deleting, and Inserting Elements Into Rank-1 ndarrays"
   ]
  },
  {
   "cell_type": "code",
   "execution_count": 5,
   "metadata": {},
   "outputs": [
    {
     "name": "stdout",
     "output_type": "stream",
     "text": [
      " arange_array:  [1 2 3 4 5]\n"
     ]
    }
   ],
   "source": [
    "import numpy as np\n",
    "\n",
    "# We create Rank-1 array from 1 to 5\n",
    "arange_array = np.arange(1, 6)\n",
    "print(' arange_array: ', arange_array)"
   ]
  },
  {
   "cell_type": "markdown",
   "metadata": {},
   "source": [
    "#### Accessing arange_array elements using positive indices"
   ]
  },
  {
   "cell_type": "code",
   "execution_count": 6,
   "metadata": {},
   "outputs": [
    {
     "name": "stdout",
     "output_type": "stream",
     "text": [
      " First element in arange_array:  1\n",
      " Third element in arange_array:  3\n"
     ]
    }
   ],
   "source": [
    "print(' First element in arange_array: ', arange_array[0])\n",
    "print(' Third element in arange_array: ', arange_array[2])"
   ]
  },
  {
   "cell_type": "markdown",
   "metadata": {},
   "source": [
    "#### Accessing arange_array elements using negaivet indices"
   ]
  },
  {
   "cell_type": "code",
   "execution_count": 7,
   "metadata": {},
   "outputs": [
    {
     "name": "stdout",
     "output_type": "stream",
     "text": [
      " Last element in arange_array:  5\n",
      " Third Last element in arange_array:  3\n"
     ]
    }
   ],
   "source": [
    "print(' Last element in arange_array: ', arange_array[-1])\n",
    "print(' Third Last element in arange_array: ', arange_array[-3])"
   ]
  },
  {
   "cell_type": "markdown",
   "metadata": {},
   "source": [
    "#### Update particular element in arange_array ndarray "
   ]
  },
  {
   "cell_type": "code",
   "execution_count": 8,
   "metadata": {},
   "outputs": [
    {
     "name": "stdout",
     "output_type": "stream",
     "text": [
      "Initially Element value at 0 index in arange_array : 1\n",
      "Element value at 0 index after updating it : 11\n"
     ]
    }
   ],
   "source": [
    "print('Initially Element value at 0 index in arange_array :', arange_array[0])\n",
    "arange_array[0] = 11\n",
    "print('Element value at 0 index after updating it :', arange_array[0])\n"
   ]
  }
 ],
 "metadata": {
  "kernelspec": {
   "display_name": "Python [conda env:py36]",
   "language": "python",
   "name": "conda-env-py36-py"
  },
  "language_info": {
   "codemirror_mode": {
    "name": "ipython",
    "version": 3
   },
   "file_extension": ".py",
   "mimetype": "text/x-python",
   "name": "python",
   "nbconvert_exporter": "python",
   "pygments_lexer": "ipython3",
   "version": "3.6.5"
  }
 },
 "nbformat": 4,
 "nbformat_minor": 2
}
